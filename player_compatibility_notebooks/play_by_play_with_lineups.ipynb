{
 "cells": [
  {
   "cell_type": "code",
   "execution_count": 1,
   "metadata": {
    "collapsed": true
   },
   "outputs": [],
   "source": [
    "import numpy as np\n",
    "import pandas as pd\n",
    "import tqdm as tqdm\n",
    "\n",
    "from nba_stats.ingest import get_all_games_for_year, get_play_by_play_for_game\n",
    "from play_by_play_with_lineups.api import get_players_on_the_court, patch_play_by_play, NEW_COLS"
   ]
  },
  {
   "cell_type": "code",
   "execution_count": 2,
   "metadata": {
    "collapsed": true
   },
   "outputs": [],
   "source": [
    "yr_string = '2017-18'\n",
    "schedule = get_all_games_for_year(yr_string)"
   ]
  },
  {
   "cell_type": "code",
   "execution_count": 3,
   "metadata": {
    "collapsed": true
   },
   "outputs": [],
   "source": [
    "game_ids = schedule['GAME_ID'].unique()\n",
    "game_ids.sort()"
   ]
  },
  {
   "cell_type": "code",
   "execution_count": 4,
   "metadata": {
    "scrolled": true
   },
   "outputs": [
    {
     "name": "stderr",
     "output_type": "stream",
     "text": [
      "100%|██████████| 1230/1230 [1:29:16<00:00,  4.35s/it]\n"
     ]
    }
   ],
   "source": [
    "\n",
    "pbp_w_lineup_list = []\n",
    "for game_id in tqdm.tqdm(game_ids):\n",
    "    pbp = get_play_by_play_for_game(game_id)\n",
    "    # Set players\n",
    "    for col in NEW_COLS:\n",
    "        pbp[col] = np.nan\n",
    "    pbp_w_lineups = get_players_on_the_court(pbp, game_id)\n",
    "    final_pbp = patch_play_by_play(pbp_w_lineups, game_id)\n",
    "    pbp_w_lineup_list.append(final_pbp)"
   ]
  },
  {
   "cell_type": "code",
   "execution_count": 5,
   "metadata": {
    "collapsed": true
   },
   "outputs": [],
   "source": [
    "pbp_with_lineups_all = pd.concat(pbp_w_lineup_list)"
   ]
  },
  {
   "cell_type": "code",
   "execution_count": 6,
   "metadata": {
    "collapsed": true
   },
   "outputs": [],
   "source": [
    "pbp_with_lineups_all.to_msgpack('pbp_{}.mp'.format(yr_string))"
   ]
  }
 ],
 "metadata": {
  "kernelspec": {
   "display_name": "Python 2",
   "language": "python",
   "name": "python2"
  },
  "language_info": {
   "codemirror_mode": {
    "name": "ipython",
    "version": 2
   },
   "file_extension": ".py",
   "mimetype": "text/x-python",
   "name": "python",
   "nbconvert_exporter": "python",
   "pygments_lexer": "ipython2",
   "version": "2.7.10"
  }
 },
 "nbformat": 4,
 "nbformat_minor": 2
}
