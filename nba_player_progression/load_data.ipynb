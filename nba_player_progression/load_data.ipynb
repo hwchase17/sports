{
 "cells": [
  {
   "cell_type": "markdown",
   "metadata": {},
   "source": [
    "### Load libraries"
   ]
  },
  {
   "cell_type": "code",
   "execution_count": null,
   "metadata": {},
   "outputs": [],
   "source": [
    "from bs4 import BeautifulSoup\n",
    "from urllib.request import urlopen\n",
    "import tqdm\n",
    "import sys\n",
    "import numpy as np\n",
    "import pandas as pd"
   ]
  },
  {
   "cell_type": "markdown",
   "metadata": {},
   "source": [
    "### Load helpers"
   ]
  },
  {
   "cell_type": "code",
   "execution_count": null,
   "metadata": {},
   "outputs": [],
   "source": [
    "# This may need to change\n",
    "sys.path.insert(0, \"/Users/harrisonchase/workplace/sports/\")\n",
    "\n",
    "from clean_sports_work.sports_reference.api import find_table, extract_table, create_insert_table_sql"
   ]
  },
  {
   "cell_type": "markdown",
   "metadata": {},
   "source": [
    "### Get data for each year"
   ]
  },
  {
   "cell_type": "code",
   "execution_count": null,
   "metadata": {},
   "outputs": [],
   "source": [
    "all_dfs = []\n",
    "for year in tqdm.tqdm(range(1950, 2020)):\n",
    "    url = 'https://www.basketball-reference.com/leagues/NBA_{}_advanced.html'.format(year)\n",
    "    html = urlopen(url)\n",
    "\n",
    "    # create the BeautifulSoup object\n",
    "    soup = BeautifulSoup(html, \"lxml\")\n",
    "\n",
    "    table_str = find_table(soup, 'advanced_stats')\n",
    "\n",
    "    yr2018 = extract_table(table_str, header_row=0, get_url=True, start_of_rows=1)\n",
    "    drop_cols = yr2018.isnull().mean()[lambda x: x == 1].index\n",
    "    for col in drop_cols:\n",
    "        del yr2018[col]\n",
    "    yr2018['year'] = year\n",
    "    all_dfs.append(yr2018)"
   ]
  },
  {
   "cell_type": "markdown",
   "metadata": {},
   "source": [
    "### Rough cleaning of data"
   ]
  },
  {
   "cell_type": "code",
   "execution_count": null,
   "metadata": {},
   "outputs": [],
   "source": [
    "all_stats = pd.concat(all_dfs)\n",
    "all_stats = all_stats.dropna(subset=['player_url', 'mp', 'age'])\n",
    "all_stats = all_stats.replace('', np.nan)\n",
    "float_cols = ['bpm', 'ts_pct', 'per', 'usg_pct', 'obpm', 'dbpm', \n",
    "              'fg3a_per_fga_pct', 'fta_per_fga_pct', 'orb_pct', 'drb_pct',\n",
    "             'trb_pct', 'ast_pct', 'stl_pct', 'blk_pct', 'tov_pct', 'ws', 'ows', 'dws']\n",
    "for col in float_cols:\n",
    "    all_stats[col] = all_stats[col].astype(float)\n",
    "    \n",
    "int_cols = ['mp', 'age']\n",
    "for col in int_cols:\n",
    "    all_stats[col] = all_stats[col].astype(int)"
   ]
  },
  {
   "cell_type": "code",
   "execution_count": null,
   "metadata": {},
   "outputs": [],
   "source": [
    "all_stats['pos'] = all_stats['pos'].str.split('-').str[0]"
   ]
  },
  {
   "cell_type": "markdown",
   "metadata": {},
   "source": [
    "### Create id for each (player, year)"
   ]
  },
  {
   "cell_type": "code",
   "execution_count": null,
   "metadata": {},
   "outputs": [],
   "source": [
    "all_stats['id'] = all_stats['player_url'] + '___' + all_stats['year'].astype(str)"
   ]
  },
  {
   "cell_type": "markdown",
   "metadata": {},
   "source": [
    "### Deduplicate ids\n",
    "\n",
    "Occurs if player played on multiple teams in one season, take row where team == 'TOT'"
   ]
  },
  {
   "cell_type": "code",
   "execution_count": null,
   "metadata": {},
   "outputs": [],
   "source": [
    "multiple_ids = all_stats['id'].value_counts()[lambda x: x> 1].index"
   ]
  },
  {
   "cell_type": "code",
   "execution_count": null,
   "metadata": {},
   "outputs": [],
   "source": [
    "base_all_stats = pd.concat([\n",
    "    all_stats[~all_stats['id'].isin(multiple_ids)],\n",
    "    all_stats[all_stats['id'].isin(multiple_ids) & (all_stats['team_id'] == 'TOT')],\n",
    "])"
   ]
  },
  {
   "cell_type": "markdown",
   "metadata": {},
   "source": [
    "### Add in row for next year\n",
    "\n",
    "Be careful not to use this in your model evaluation!!! Is only present for ease of predicting next year"
   ]
  },
  {
   "cell_type": "code",
   "execution_count": null,
   "metadata": {},
   "outputs": [],
   "source": [
    "most_recent_year = base_all_stats[base_all_stats['year'] == base_all_stats['year'].max()]\n",
    "most_recent_year['year'] += 1\n",
    "most_recent_year['age'] +=1\n",
    "most_recent_year['id'] = most_recent_year['player_url'] + '___' + most_recent_year['year'].astype(str)\n"
   ]
  },
  {
   "cell_type": "code",
   "execution_count": null,
   "metadata": {},
   "outputs": [],
   "source": [
    "all_stats = pd.concat([base_all_stats, most_recent_year])"
   ]
  },
  {
   "cell_type": "markdown",
   "metadata": {},
   "source": [
    "### Save data"
   ]
  },
  {
   "cell_type": "code",
   "execution_count": null,
   "metadata": {},
   "outputs": [],
   "source": [
    "all_stats.to_msgpack('all_stats.mp')"
   ]
  }
 ],
 "metadata": {
  "kernelspec": {
   "display_name": "Python 3",
   "language": "python",
   "name": "python3"
  },
  "language_info": {
   "codemirror_mode": {
    "name": "ipython",
    "version": 3
   },
   "file_extension": ".py",
   "mimetype": "text/x-python",
   "name": "python",
   "nbconvert_exporter": "python",
   "pygments_lexer": "ipython3",
   "version": "3.6.5"
  }
 },
 "nbformat": 4,
 "nbformat_minor": 2
}
