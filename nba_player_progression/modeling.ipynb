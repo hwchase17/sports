{
 "cells": [
  {
   "cell_type": "markdown",
   "metadata": {},
   "source": [
    "### Load libraries"
   ]
  },
  {
   "cell_type": "code",
   "execution_count": null,
   "metadata": {},
   "outputs": [],
   "source": [
    "import pandas as pd\n",
    "import lightgbm as lgb"
   ]
  },
  {
   "cell_type": "markdown",
   "metadata": {},
   "source": [
    "### Define some helpers"
   ]
  },
  {
   "cell_type": "code",
   "execution_count": null,
   "metadata": {},
   "outputs": [],
   "source": [
    "def get_stats(all_stats, year_change):\n",
    "    all_prior_stats = all_stats.copy()\n",
    "    all_prior_stats['year'] += year_change\n",
    "    all_prior_stats['id'] = all_prior_stats['player_url'] + '___' + all_prior_stats['year'].astype(str)\n",
    "    cols = ['mp', 'bpm', 'ts_pct', 'per', 'usg_pct', 'obpm', 'dbpm',\n",
    "            'fg3a_per_fga_pct', 'fta_per_fga_pct', 'orb_pct', 'drb_pct',\n",
    "             'trb_pct', 'ast_pct', 'stl_pct', 'blk_pct', 'tov_pct', 'ws', 'ows', 'dws']\n",
    "    return all_prior_stats[['id'] + cols].rename(columns={col: '{}___{}'.format(col, year_change) for col in cols})"
   ]
  },
  {
   "cell_type": "code",
   "execution_count": null,
   "metadata": {},
   "outputs": [],
   "source": [
    "def merge_dfs(target_df, *args):\n",
    "    res = target_df\n",
    "    for arg in args:\n",
    "        cols = arg.columns\n",
    "        intersection = set(res.columns).intersection(cols)\n",
    "        if intersection != {'id'}:\n",
    "            raise ValueError\n",
    "        else:\n",
    "            res = res.merge(arg, how='left', on='id')\n",
    "    return res"
   ]
  },
  {
   "cell_type": "markdown",
   "metadata": {},
   "source": [
    "### Load data"
   ]
  },
  {
   "cell_type": "markdown",
   "metadata": {},
   "source": [
    "all_stats = pd.read_msgpack('all_stats.mp')"
   ]
  },
  {
   "cell_type": "markdown",
   "metadata": {},
   "source": [
    "### Define a target df"
   ]
  },
  {
   "cell_type": "code",
   "execution_count": null,
   "metadata": {},
   "outputs": [],
   "source": [
    "target = all_stats[['player_url', 'year', 'ws', 'id', 'bpm', 'mp']]"
   ]
  },
  {
   "cell_type": "markdown",
   "metadata": {},
   "source": [
    "### Create some features that we will know for that year (age, position)"
   ]
  },
  {
   "cell_type": "code",
   "execution_count": null,
   "metadata": {},
   "outputs": [],
   "source": [
    "X_df1 = pd.concat([all_stats[['id', 'age']], pd.get_dummies(all_stats['pos'])], axis=1)"
   ]
  },
  {
   "cell_type": "markdown",
   "metadata": {},
   "source": [
    "### Create feature for years in league"
   ]
  },
  {
   "cell_type": "code",
   "execution_count": null,
   "metadata": {},
   "outputs": [],
   "source": [
    "year_in_league = target.merge(target.groupby('player_url')['year'].min().to_frame('min_year').reset_index())\n",
    "year_in_league['years_pro'] = year_in_league['year'] - year_in_league['min_year']\n",
    "year_in_league = year_in_league[['id', 'years_pro']]"
   ]
  },
  {
   "cell_type": "markdown",
   "metadata": {},
   "source": [
    "### Concat above dfs with stats from previous 3 years"
   ]
  },
  {
   "cell_type": "code",
   "execution_count": null,
   "metadata": {},
   "outputs": [],
   "source": [
    "all_df = merge_dfs(\n",
    "    target, \n",
    "    X_df1, \n",
    "    year_in_league,\n",
    "    get_stats(all_stats, 1),\n",
    "    get_stats(all_stats, 2),\n",
    "    get_stats(all_stats, 3),\n",
    ").dropna(subset=['bpm'])"
   ]
  },
  {
   "cell_type": "markdown",
   "metadata": {},
   "source": [
    "### Create some new features/interactions"
   ]
  },
  {
   "cell_type": "code",
   "execution_count": null,
   "metadata": {},
   "outputs": [],
   "source": [
    "all_df['lot_of_min'] = (all_df['mp___1'].fillna(0) + all_df['mp___2'].fillna(0)) > 1000"
   ]
  },
  {
   "cell_type": "code",
   "execution_count": null,
   "metadata": {},
   "outputs": [],
   "source": [
    "all_df['ws_diff'] = all_df['ws___1'] - all_df['ws___2']\n",
    "all_df['bpm_diff'] = all_df['bpm___1'] - all_df['bpm___2']\n",
    "all_df['mp_diff'] = all_df['mp___1'] - all_df['mp___2']\n",
    "all_df['bpm_int'] = all_df['bpm___1'] * all_df['bpm___2']\n",
    "all_df['bpm_diff_2'] = all_df['bpm___2'] - all_df['bpm___3']\n",
    "all_df['bpm_age_int'] = all_df['bpm___1'] * all_df['age']"
   ]
  },
  {
   "cell_type": "markdown",
   "metadata": {},
   "source": [
    "### Create (new?) target, change in BPM"
   ]
  },
  {
   "cell_type": "code",
   "execution_count": null,
   "metadata": {},
   "outputs": [],
   "source": [
    "all_df['diff'] = all_df['bpm'] - all_df['bpm___1']"
   ]
  },
  {
   "cell_type": "markdown",
   "metadata": {},
   "source": [
    "### Subset train df\n",
    "\n",
    "Only between certain years, not rookie, change in BPM is not null (only if predicting delta)"
   ]
  },
  {
   "cell_type": "code",
   "execution_count": null,
   "metadata": {},
   "outputs": [],
   "source": [
    "train_df = all_df[\n",
    "    (all_df['year'] > 1970) \n",
    "    & (all_df['year'] < 2019) \n",
    "    & (all_df['years_pro'] > 0) \n",
    "    &(all_df['diff'].notnull())\n",
    "]"
   ]
  },
  {
   "cell_type": "markdown",
   "metadata": {},
   "source": [
    "### Some LGB params"
   ]
  },
  {
   "cell_type": "code",
   "execution_count": null,
   "metadata": {},
   "outputs": [],
   "source": [
    "\n",
    "lgb_params = {\n",
    "    'boosting_type': 'gbdt',\n",
    "    'metric': ['rmse'],\n",
    "    #'num_leaves': 20,\n",
    "    'learning_rate': 0.05,\n",
    "    #'feature_fraction': 0.6,\n",
    "    #'bagging_fraction': 0.6,\n",
    "    #'bagging_freq': 1,\n",
    "    #'bagging_freq': 5,\n",
    "    #'colsample_bytree': .4,\n",
    "    #'min_data_in_leaf': 2,\n",
    "    #'reg_alpha': 1,\n",
    "    #'reg_lambda': 1,\n",
    "    #'max_depth': 4,\n",
    "    'verbose': 0\n",
    "}"
   ]
  },
  {
   "cell_type": "markdown",
   "metadata": {},
   "source": [
    "### Define X, y, drop any lookahead features"
   ]
  },
  {
   "cell_type": "code",
   "execution_count": null,
   "metadata": {},
   "outputs": [],
   "source": [
    "y = train_df['diff']\n",
    "drop_cols =['id', 'ws', 'bpm', 'player_url', 'year', 'mp', 'diff']\n",
    "X = train_df.drop(drop_cols, 1)\n",
    "X_all = all_df.drop(drop_cols, 1)"
   ]
  },
  {
   "cell_type": "markdown",
   "metadata": {},
   "source": [
    "### When training, care more about players with more minutes\n",
    "\n",
    "Better actual estimate for their BPM"
   ]
  },
  {
   "cell_type": "code",
   "execution_count": null,
   "metadata": {},
   "outputs": [],
   "source": [
    "weights = np.log10(train_df['mp']+1) #* 0 + 1"
   ]
  },
  {
   "cell_type": "markdown",
   "metadata": {},
   "source": [
    "### CV for num rounds"
   ]
  },
  {
   "cell_type": "code",
   "execution_count": null,
   "metadata": {},
   "outputs": [],
   "source": [
    "lgb_data = lgb.Dataset(X, y, weight=weights)\n",
    "out = lgb.cv(lgb_params, lgb_data, num_boost_round=10000, nfold=5,\n",
    "             early_stopping_rounds=10,stratified=False)\n",
    "cv_loss = out['rmse-mean'][-1]\n",
    "cv_num_rounds = len(out['rmse-mean'])\n",
    "\n",
    "cv_loss, cv_num_rounds"
   ]
  },
  {
   "cell_type": "markdown",
   "metadata": {},
   "source": [
    "### Fit model"
   ]
  },
  {
   "cell_type": "code",
   "execution_count": null,
   "metadata": {},
   "outputs": [],
   "source": [
    "bst = lgb.LGBMRegressor(n_estimators=cv_num_rounds, **lgb_params)\n",
    "bst.fit(X, y, sample_weight=weights)"
   ]
  },
  {
   "cell_type": "markdown",
   "metadata": {},
   "source": [
    "### Predict and transform back to BPM prediction"
   ]
  },
  {
   "cell_type": "code",
   "execution_count": null,
   "metadata": {},
   "outputs": [],
   "source": [
    "preds = bst.predict(X_all)"
   ]
  },
  {
   "cell_type": "code",
   "execution_count": null,
   "metadata": {},
   "outputs": [],
   "source": [
    "pred_df = all_df.copy()\n",
    "pred_df['pred'] = preds + pred_df['bpm___1']"
   ]
  },
  {
   "cell_type": "markdown",
   "metadata": {},
   "source": [
    "### Look at predictions for recent year"
   ]
  },
  {
   "cell_type": "code",
   "execution_count": null,
   "metadata": {},
   "outputs": [],
   "source": [
    "recent = pred_df[(pred_df['year'] > 2018) & (pred_df['year'] < 2020)].sort_values('pred')\n",
    "recent = recent[(recent['years_pro'] > 0)]"
   ]
  },
  {
   "cell_type": "markdown",
   "metadata": {},
   "source": [
    "### Look into data!!"
   ]
  },
  {
   "cell_type": "code",
   "execution_count": null,
   "metadata": {},
   "outputs": [],
   "source": []
  },
  {
   "cell_type": "code",
   "execution_count": null,
   "metadata": {},
   "outputs": [],
   "source": []
  },
  {
   "cell_type": "code",
   "execution_count": null,
   "metadata": {},
   "outputs": [],
   "source": []
  }
 ],
 "metadata": {
  "kernelspec": {
   "display_name": "Python 3",
   "language": "python",
   "name": "python3"
  },
  "language_info": {
   "codemirror_mode": {
    "name": "ipython",
    "version": 3
   },
   "file_extension": ".py",
   "mimetype": "text/x-python",
   "name": "python",
   "nbconvert_exporter": "python",
   "pygments_lexer": "ipython3",
   "version": "3.6.5"
  }
 },
 "nbformat": 4,
 "nbformat_minor": 2
}
