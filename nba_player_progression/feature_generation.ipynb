{
 "cells": [
  {
   "cell_type": "markdown",
   "metadata": {},
   "source": [
    "### Load libraries"
   ]
  },
  {
   "cell_type": "code",
   "execution_count": null,
   "metadata": {},
   "outputs": [],
   "source": [
    "import pandas as pd\n",
    "import lightgbm as lgb\n",
    "import numpy as np"
   ]
  },
  {
   "cell_type": "markdown",
   "metadata": {},
   "source": [
    "### Define some helpers"
   ]
  },
  {
   "cell_type": "code",
   "execution_count": null,
   "metadata": {},
   "outputs": [],
   "source": [
    "def get_stats(all_stats, year_change):\n",
    "    all_prior_stats = all_stats.copy()\n",
    "    all_prior_stats['year'] += year_change\n",
    "    all_prior_stats['id'] = all_prior_stats['player_url'] + '___' + all_prior_stats['year'].astype(str)\n",
    "    cols = ['mp', 'g', 'bpm', 'ts_pct', 'per', 'usg_pct', 'obpm', 'dbpm',\n",
    "            'fg3a_per_fga_pct', 'fta_per_fga_pct', 'orb_pct', 'drb_pct',\n",
    "             'trb_pct', 'ast_pct', 'stl_pct', 'blk_pct', 'tov_pct', 'ws', 'ows', 'dws',\n",
    "           'win_loss_pct', 'srs', 'pace_rel', 'off_rtg_rel', 'def_rtg_rel', 'made_playoffs']\n",
    "    return all_prior_stats[['id'] + cols].rename(columns={col: '{}___{}'.format(col, year_change) for col in cols})"
   ]
  },
  {
   "cell_type": "code",
   "execution_count": null,
   "metadata": {},
   "outputs": [],
   "source": [
    "def merge_dfs(target_df, *args):\n",
    "    res = target_df\n",
    "    for arg in args:\n",
    "        cols = arg.columns\n",
    "        intersection = set(res.columns).intersection(cols)\n",
    "        if intersection != {'id'}:\n",
    "            raise ValueError\n",
    "        else:\n",
    "            res = res.merge(arg, how='left', on='id')\n",
    "    return res"
   ]
  },
  {
   "cell_type": "markdown",
   "metadata": {},
   "source": [
    "### Load data"
   ]
  },
  {
   "cell_type": "code",
   "execution_count": null,
   "metadata": {},
   "outputs": [],
   "source": [
    "all_stats = pd.read_msgpack('all_stats.mp')"
   ]
  },
  {
   "cell_type": "code",
   "execution_count": null,
   "metadata": {},
   "outputs": [],
   "source": [
    "all_stats['g'] = all_stats['g'].astype(float)"
   ]
  },
  {
   "cell_type": "markdown",
   "metadata": {},
   "source": [
    "### Define a target df"
   ]
  },
  {
   "cell_type": "code",
   "execution_count": null,
   "metadata": {},
   "outputs": [],
   "source": [
    "target = all_stats[['player_url', 'year', 'ws', 'id', 'bpm', 'mp']]"
   ]
  },
  {
   "cell_type": "markdown",
   "metadata": {},
   "source": [
    "### Create some features that we will know for that year (age, position)"
   ]
  },
  {
   "cell_type": "code",
   "execution_count": null,
   "metadata": {},
   "outputs": [],
   "source": [
    "X_df1 = pd.concat([all_stats[['id', 'age', 'pick_overall']], pd.get_dummies(all_stats['pos']), all_stats[['college_name']].isnull()], axis=1)"
   ]
  },
  {
   "cell_type": "markdown",
   "metadata": {},
   "source": [
    "### Create feature for years in league"
   ]
  },
  {
   "cell_type": "code",
   "execution_count": null,
   "metadata": {},
   "outputs": [],
   "source": [
    "year_in_league = target.merge(target.groupby('player_url')['year'].min().to_frame('min_year').reset_index())\n",
    "year_in_league['years_pro'] = year_in_league['year'] - year_in_league['min_year']\n",
    "year_in_league = year_in_league[['id', 'years_pro']]"
   ]
  },
  {
   "cell_type": "markdown",
   "metadata": {},
   "source": [
    "### Same team"
   ]
  },
  {
   "cell_type": "code",
   "execution_count": null,
   "metadata": {},
   "outputs": [],
   "source": [
    "_x = all_stats[['player_url', 'started_team', 'year', 'mp', 'age', 'team_id']]\n",
    "_x['year'] += 1\n",
    "_x['id'] = _x['player_url'] + '___' + _x['year'].astype(str)"
   ]
  },
  {
   "cell_type": "code",
   "execution_count": null,
   "metadata": {},
   "outputs": [],
   "source": [
    "_x = all_stats.merge(_x, on='id', suffixes=('', '_old'), how='left')\n",
    "_x['same_team'] = (_x['started_team'] == _x['started_team_old']).astype(int)"
   ]
  },
  {
   "cell_type": "code",
   "execution_count": null,
   "metadata": {},
   "outputs": [],
   "source": [
    "_x['old_mp_same'] = _x['mp_old'] * _x['same_team']"
   ]
  },
  {
   "cell_type": "code",
   "execution_count": null,
   "metadata": {},
   "outputs": [],
   "source": [
    "consistency = (_x.groupby(['year', 'started_team'])['old_mp_same'].sum() / _x.groupby(['year', 'started_team'])['mp_old'].sum()).to_frame('consistency').reset_index()"
   ]
  },
  {
   "cell_type": "code",
   "execution_count": null,
   "metadata": {},
   "outputs": [],
   "source": [
    "consistency1 = (_x.groupby(['year', 'started_team'])['old_mp_same'].sum() / _x.groupby(['year', 'started_team'])['mp_old'].sum()).to_frame('consistency1').reset_index()"
   ]
  },
  {
   "cell_type": "code",
   "execution_count": null,
   "metadata": {},
   "outputs": [],
   "source": [
    "_x = _x.merge(consistency, how='left', on=['year', 'started_team'])"
   ]
  },
  {
   "cell_type": "code",
   "execution_count": null,
   "metadata": {},
   "outputs": [],
   "source": [
    "_x = _x.merge(consistency1.rename(columns={'started_team_old': 'started_team'}), how='left', on=['year', 'started_team'])"
   ]
  },
  {
   "cell_type": "code",
   "execution_count": null,
   "metadata": {},
   "outputs": [],
   "source": [
    "_x = _x.merge(_x.groupby(['year', 'started_team'])[['age_old']].mean().reset_index().rename(columns={'age_old': 'team_age_old'}), how='left', on=['year', 'started_team'])"
   ]
  },
  {
   "cell_type": "code",
   "execution_count": null,
   "metadata": {},
   "outputs": [],
   "source": [
    "_x['traded'] = _x['team_id_old'] == 'TOT'"
   ]
  },
  {
   "cell_type": "code",
   "execution_count": null,
   "metadata": {},
   "outputs": [],
   "source": [
    "_x.loc[_x['traded'], 'same_team'] = np.nan\n",
    "_x.loc[_x['traded'], 'consistency'] = np.nan\n",
    "_x.loc[_x['traded'], 'consistency1'] = np.nan"
   ]
  },
  {
   "cell_type": "code",
   "execution_count": null,
   "metadata": {},
   "outputs": [],
   "source": [
    "team_df = _x[['id', 'same_team', 'team_age_old', 'consistency', 'consistency1', 'traded']]"
   ]
  },
  {
   "cell_type": "markdown",
   "metadata": {},
   "source": [
    "### Concat above dfs with stats from previous 3 years"
   ]
  },
  {
   "cell_type": "code",
   "execution_count": null,
   "metadata": {},
   "outputs": [],
   "source": [
    "all_df = merge_dfs(\n",
    "    target, \n",
    "    X_df1, \n",
    "    team_df,\n",
    "    year_in_league,\n",
    "    get_stats(all_stats, 1),\n",
    "    get_stats(all_stats, 2),\n",
    "    get_stats(all_stats, 3),\n",
    ")\n",
    "all_df = all_df[all_df['bpm'].notnull() | (all_df['year'] == 2020)]"
   ]
  },
  {
   "cell_type": "markdown",
   "metadata": {},
   "source": [
    "### Create some new features/interactions"
   ]
  },
  {
   "cell_type": "code",
   "execution_count": null,
   "metadata": {},
   "outputs": [],
   "source": [
    "all_df['lot_of_min'] = (all_df['mp___1'].fillna(0) + all_df['mp___2'].fillna(0)) > 1000"
   ]
  },
  {
   "cell_type": "code",
   "execution_count": null,
   "metadata": {},
   "outputs": [],
   "source": [
    "all_df['ws_diff'] = all_df['ws___1'] - all_df['ws___2']\n",
    "all_df['bpm_diff'] = all_df['bpm___1'] - all_df['bpm___2']\n",
    "all_df['mp_diff'] = all_df['mp___1'] - all_df['mp___2']\n",
    "all_df['bpm_int'] = all_df['bpm___1'] * all_df['bpm___2']\n",
    "all_df['bpm_diff_2'] = all_df['bpm___2'] - all_df['bpm___3']\n",
    "all_df['bpm_age_int'] = all_df['bpm___1'] * all_df['age']"
   ]
  },
  {
   "cell_type": "markdown",
   "metadata": {},
   "source": [
    "### Create (new?) target, change in BPM"
   ]
  },
  {
   "cell_type": "code",
   "execution_count": null,
   "metadata": {},
   "outputs": [],
   "source": [
    "all_df['diff'] = all_df['bpm'] - all_df['bpm___1']"
   ]
  },
  {
   "cell_type": "code",
   "execution_count": null,
   "metadata": {},
   "outputs": [],
   "source": [
    "all_df.to_msgpack('feature_df.mp')"
   ]
  },
  {
   "cell_type": "code",
   "execution_count": null,
   "metadata": {},
   "outputs": [],
   "source": [
    "all_df['year'].max()"
   ]
  },
  {
   "cell_type": "markdown",
   "metadata": {},
   "source": [
    "#### New feature - minutes played last season that are coming back"
   ]
  },
  {
   "cell_type": "code",
   "execution_count": null,
   "metadata": {},
   "outputs": [],
   "source": [
    "all_df = pd.read_msgpack(\"feature_df.mp\")\n",
    "all_df.shape"
   ]
  },
  {
   "cell_type": "code",
   "execution_count": null,
   "metadata": {},
   "outputs": [],
   "source": [
    "team_mp = (\n",
    "    all_stats[['id', 'team_id', 'year', 'player_url', 'mp', 'bpm', 'started_team', 'pos']]\n",
    "    .merge(all_df[[\"id\", \"mp___1\", \"g___1\", \"same_team\"]], on=[\"id\"], how=\"left\")\n",
    "    [lambda x: x['started_team'] != \"TOT\"]\n",
    "    [lambda x: x['year'] != 1999]\n",
    ")\n",
    "\n",
    "team_mp['g___1'] = team_mp['g___1'].astype(float)\n",
    "team_mp['mpg___1'] = team_mp['mp___1'] / team_mp['g___1']"
   ]
  },
  {
   "cell_type": "code",
   "execution_count": null,
   "metadata": {},
   "outputs": [],
   "source": [
    "def agg_mp___1(cols):\n",
    "    return (\n",
    "        team_mp\n",
    "        .groupby(cols)['mp___1'].sum()\n",
    "    )"
   ]
  },
  {
   "cell_type": "code",
   "execution_count": null,
   "metadata": {},
   "outputs": [],
   "source": [
    "mp_last = agg_mp___1(['started_team', 'year'])\n",
    "mp_last_new_old = agg_mp___1(['started_team', 'year', 'same_team']).unstack('same_team')\n",
    "\n",
    "pos_mp_last = agg_mp___1(['started_team', 'year', 'pos'])\n",
    "pos_mp_last_new_old = agg_mp___1(['started_team', 'year', 'pos', 'same_team']).unstack('same_team')"
   ]
  },
  {
   "cell_type": "code",
   "execution_count": null,
   "metadata": {},
   "outputs": [],
   "source": [
    "all_stats[\"id\"].duplicated().any(), all_df[\"id\"].duplicated().any()"
   ]
  },
  {
   "cell_type": "code",
   "execution_count": null,
   "metadata": {},
   "outputs": [],
   "source": [
    "all_df = (\n",
    "    all_df\n",
    "    .merge(\n",
    "        all_stats[[\"id\", \"started_team\", \"pos\"]], on=[\"id\"], how=\"left\"\n",
    "    )\n",
    "    .merge(\n",
    "        mp_last.to_frame(\"team_mp___1\").reset_index(), on=[\"started_team\", \"year\"], how=\"left\"\n",
    "    )\n",
    "    .merge(\n",
    "        mp_last_new_old\n",
    "        .rename(columns=lambda x: \"team_mp___1_{}\".format(\"new\" if x < 0.5 else \"returning\"))\n",
    "        .reset_index(),\n",
    "        on=[\"started_team\", \"year\"],\n",
    "        how=\"left\"\n",
    "    )\n",
    "    .merge(\n",
    "        pos_mp_last.to_frame(\"pos_team_mp___1\").reset_index(), \n",
    "        on=[\"pos\", \"started_team\", \"year\"], \n",
    "        how=\"left\"\n",
    "    )\n",
    "    .merge(\n",
    "        pos_mp_last_new_old\n",
    "        .rename(columns=lambda x: \"pos_team_mp___1_{}\".format(\"new\" if x < 0.5 else \"returning\"))\n",
    "        .reset_index(),\n",
    "        on=[\"pos\", \"started_team\", \"year\"],\n",
    "        how=\"left\"\n",
    "    )\n",
    ")"
   ]
  },
  {
   "cell_type": "code",
   "execution_count": null,
   "metadata": {},
   "outputs": [],
   "source": [
    "all_df.shape"
   ]
  },
  {
   "cell_type": "code",
   "execution_count": null,
   "metadata": {},
   "outputs": [],
   "source": [
    "all_df.to_msgpack('feature_df___w_mp.mp')"
   ]
  }
 ],
 "metadata": {
  "kernelspec": {
   "display_name": "Python 3",
   "language": "python",
   "name": "python3"
  },
  "language_info": {
   "codemirror_mode": {
    "name": "ipython",
    "version": 3
   },
   "file_extension": ".py",
   "mimetype": "text/x-python",
   "name": "python",
   "nbconvert_exporter": "python",
   "pygments_lexer": "ipython3",
   "version": "3.6.8"
  }
 },
 "nbformat": 4,
 "nbformat_minor": 2
}
