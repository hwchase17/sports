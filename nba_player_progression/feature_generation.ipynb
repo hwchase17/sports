{
 "cells": [
  {
   "cell_type": "markdown",
   "metadata": {},
   "source": [
    "### Load libraries"
   ]
  },
  {
   "cell_type": "code",
   "execution_count": 1,
   "metadata": {},
   "outputs": [
    {
     "name": "stderr",
     "output_type": "stream",
     "text": [
      "/Users/harrisonchase/workplace/.venvs/record_linking/lib/python3.6/site-packages/lightgbm/__init__.py:46: UserWarning: Starting from version 2.2.1, the library file in distribution wheels for macOS is built by the Apple Clang (Xcode_8.3.3) compiler.\n",
      "This means that in case of installing LightGBM from PyPI via the ``pip install lightgbm`` command, you don't need to install the gcc compiler anymore.\n",
      "Instead of that, you need to install the OpenMP library, which is required for running LightGBM on the system with the Apple Clang compiler.\n",
      "You can install the OpenMP library by the following command: ``brew install libomp``.\n",
      "  \"You can install the OpenMP library by the following command: ``brew install libomp``.\", UserWarning)\n"
     ]
    }
   ],
   "source": [
    "import pandas as pd\n",
    "import lightgbm as lgb\n",
    "import numpy as np"
   ]
  },
  {
   "cell_type": "markdown",
   "metadata": {},
   "source": [
    "### Define some helpers"
   ]
  },
  {
   "cell_type": "code",
   "execution_count": 2,
   "metadata": {},
   "outputs": [],
   "source": [
    "def get_stats(all_stats, year_change):\n",
    "    all_prior_stats = all_stats.copy()\n",
    "    all_prior_stats['year'] += year_change\n",
    "    all_prior_stats['id'] = all_prior_stats['player_url'] + '___' + all_prior_stats['year'].astype(str)\n",
    "    cols = ['mp', 'g', 'bpm', 'ts_pct', 'per', 'usg_pct', 'obpm', 'dbpm',\n",
    "            'fg3a_per_fga_pct', 'fta_per_fga_pct', 'orb_pct', 'drb_pct',\n",
    "             'trb_pct', 'ast_pct', 'stl_pct', 'blk_pct', 'tov_pct', 'ws', 'ows', 'dws',\n",
    "           'win_loss_pct', 'srs', 'pace_rel', 'off_rtg_rel', 'def_rtg_rel', 'made_playoffs',\n",
    "           'playoff_mp', 'playoff_bpm', 'mvp_award_share', 'mip_award_share', 'roy_award_share']\n",
    "    return all_prior_stats[['id'] + cols].rename(columns={col: '{}___{}'.format(col, year_change) for col in cols})"
   ]
  },
  {
   "cell_type": "code",
   "execution_count": 3,
   "metadata": {},
   "outputs": [],
   "source": [
    "def merge_dfs(target_df, *args):\n",
    "    res = target_df\n",
    "    for arg in args:\n",
    "        cols = arg.columns\n",
    "        intersection = set(res.columns).intersection(cols)\n",
    "        if intersection != {'id'}:\n",
    "            raise ValueError\n",
    "        else:\n",
    "            res = res.merge(arg, how='left', on='id')\n",
    "    return res"
   ]
  },
  {
   "cell_type": "markdown",
   "metadata": {},
   "source": [
    "### Load data"
   ]
  },
  {
   "cell_type": "code",
   "execution_count": 4,
   "metadata": {},
   "outputs": [],
   "source": [
    "all_stats = pd.read_msgpack('all_stats.mp')"
   ]
  },
  {
   "cell_type": "code",
   "execution_count": 5,
   "metadata": {},
   "outputs": [],
   "source": [
    "all_stats['g'] = all_stats['g'].astype(float)"
   ]
  },
  {
   "cell_type": "markdown",
   "metadata": {},
   "source": [
    "### Define a target df"
   ]
  },
  {
   "cell_type": "code",
   "execution_count": 6,
   "metadata": {},
   "outputs": [],
   "source": [
    "target = all_stats[['player_url', 'year', 'ws', 'id', 'bpm', 'mp']]"
   ]
  },
  {
   "cell_type": "markdown",
   "metadata": {},
   "source": [
    "### Create some features that we will know for that year (age, position)"
   ]
  },
  {
   "cell_type": "code",
   "execution_count": 7,
   "metadata": {},
   "outputs": [],
   "source": [
    "X_df1 = pd.concat([all_stats[['id', 'age', 'pick_overall']], pd.get_dummies(all_stats['pos']), all_stats[['college_name']].isnull()], axis=1)"
   ]
  },
  {
   "cell_type": "markdown",
   "metadata": {},
   "source": [
    "### Create feature for years in league"
   ]
  },
  {
   "cell_type": "code",
   "execution_count": 8,
   "metadata": {},
   "outputs": [],
   "source": [
    "year_in_league = target.merge(target.groupby('player_url')['year'].min().to_frame('min_year').reset_index())\n",
    "year_in_league['years_pro'] = year_in_league['year'] - year_in_league['min_year']\n",
    "year_in_league = year_in_league[['id', 'years_pro']]"
   ]
  },
  {
   "cell_type": "markdown",
   "metadata": {},
   "source": [
    "### Same team"
   ]
  },
  {
   "cell_type": "code",
   "execution_count": 9,
   "metadata": {},
   "outputs": [
    {
     "name": "stderr",
     "output_type": "stream",
     "text": [
      "/Users/harrisonchase/workplace/.venvs/record_linking/lib/python3.6/site-packages/ipykernel_launcher.py:2: SettingWithCopyWarning: \n",
      "A value is trying to be set on a copy of a slice from a DataFrame.\n",
      "Try using .loc[row_indexer,col_indexer] = value instead\n",
      "\n",
      "See the caveats in the documentation: http://pandas.pydata.org/pandas-docs/stable/indexing.html#indexing-view-versus-copy\n",
      "  \n",
      "/Users/harrisonchase/workplace/.venvs/record_linking/lib/python3.6/site-packages/ipykernel_launcher.py:3: SettingWithCopyWarning: \n",
      "A value is trying to be set on a copy of a slice from a DataFrame.\n",
      "Try using .loc[row_indexer,col_indexer] = value instead\n",
      "\n",
      "See the caveats in the documentation: http://pandas.pydata.org/pandas-docs/stable/indexing.html#indexing-view-versus-copy\n",
      "  This is separate from the ipykernel package so we can avoid doing imports until\n"
     ]
    }
   ],
   "source": [
    "_x = all_stats[['player_url', 'started_team', 'year', 'mp', 'age', 'team_id']]\n",
    "_x['year'] += 1\n",
    "_x['id'] = _x['player_url'] + '___' + _x['year'].astype(str)"
   ]
  },
  {
   "cell_type": "code",
   "execution_count": 10,
   "metadata": {},
   "outputs": [],
   "source": [
    "_x = all_stats.merge(_x, on='id', suffixes=('', '_old'), how='left')\n",
    "_x['same_team'] = (_x['started_team'] == _x['started_team_old']).astype(int)"
   ]
  },
  {
   "cell_type": "code",
   "execution_count": 11,
   "metadata": {},
   "outputs": [],
   "source": [
    "_x['old_mp_same'] = _x['mp_old'] * _x['same_team']"
   ]
  },
  {
   "cell_type": "code",
   "execution_count": 12,
   "metadata": {},
   "outputs": [],
   "source": [
    "consistency = (_x.groupby(['year', 'started_team'])['old_mp_same'].sum() / _x.groupby(['year', 'started_team'])['mp_old'].sum()).to_frame('consistency').reset_index()"
   ]
  },
  {
   "cell_type": "code",
   "execution_count": 13,
   "metadata": {},
   "outputs": [],
   "source": [
    "consistency1 = (_x.groupby(['year', 'started_team'])['old_mp_same'].sum() / _x.groupby(['year', 'started_team'])['mp_old'].sum()).to_frame('consistency1').reset_index()"
   ]
  },
  {
   "cell_type": "code",
   "execution_count": 14,
   "metadata": {},
   "outputs": [],
   "source": [
    "_x = _x.merge(consistency, how='left', on=['year', 'started_team'])"
   ]
  },
  {
   "cell_type": "code",
   "execution_count": 15,
   "metadata": {},
   "outputs": [],
   "source": [
    "_x = _x.merge(consistency1.rename(columns={'started_team_old': 'started_team'}), how='left', on=['year', 'started_team'])"
   ]
  },
  {
   "cell_type": "code",
   "execution_count": 16,
   "metadata": {},
   "outputs": [],
   "source": [
    "_x = _x.merge(_x.groupby(['year', 'started_team'])[['age_old']].mean().reset_index().rename(columns={'age_old': 'team_age_old'}), how='left', on=['year', 'started_team'])"
   ]
  },
  {
   "cell_type": "code",
   "execution_count": 17,
   "metadata": {},
   "outputs": [],
   "source": [
    "_x['traded'] = _x['team_id_old'] == 'TOT'"
   ]
  },
  {
   "cell_type": "code",
   "execution_count": 18,
   "metadata": {},
   "outputs": [],
   "source": [
    "_x.loc[_x['traded'], 'same_team'] = np.nan\n",
    "_x.loc[_x['traded'], 'consistency'] = np.nan\n",
    "_x.loc[_x['traded'], 'consistency1'] = np.nan"
   ]
  },
  {
   "cell_type": "code",
   "execution_count": 19,
   "metadata": {},
   "outputs": [],
   "source": [
    "team_df = _x[['id', 'same_team', 'team_age_old', 'consistency', 'consistency1', 'traded', 'year_coaching']]"
   ]
  },
  {
   "cell_type": "markdown",
   "metadata": {},
   "source": [
    "### Concat above dfs with stats from previous 3 years"
   ]
  },
  {
   "cell_type": "code",
   "execution_count": 20,
   "metadata": {},
   "outputs": [],
   "source": [
    "all_df = merge_dfs(\n",
    "    target, \n",
    "    X_df1, \n",
    "    team_df,\n",
    "    year_in_league,\n",
    "    get_stats(all_stats, 1),\n",
    "    get_stats(all_stats, 2),\n",
    "    get_stats(all_stats, 3),\n",
    ")\n",
    "all_df = all_df[all_df['bpm'].notnull() | (all_df['year'] == 2020)]"
   ]
  },
  {
   "cell_type": "markdown",
   "metadata": {},
   "source": [
    "### Create some new features/interactions"
   ]
  },
  {
   "cell_type": "code",
   "execution_count": 21,
   "metadata": {},
   "outputs": [],
   "source": [
    "all_df['lot_of_min'] = (all_df['mp___1'].fillna(0) + all_df['mp___2'].fillna(0)) > 1000"
   ]
  },
  {
   "cell_type": "code",
   "execution_count": 22,
   "metadata": {},
   "outputs": [],
   "source": [
    "all_df['ws_diff'] = all_df['ws___1'] - all_df['ws___2']\n",
    "all_df['bpm_diff'] = all_df['bpm___1'] - all_df['bpm___2']\n",
    "all_df['mp_diff'] = all_df['mp___1'] - all_df['mp___2']\n",
    "all_df['bpm_int'] = all_df['bpm___1'] * all_df['bpm___2']\n",
    "all_df['bpm_diff_2'] = all_df['bpm___2'] - all_df['bpm___3']\n",
    "all_df['bpm_age_int'] = all_df['bpm___1'] * all_df['age']"
   ]
  },
  {
   "cell_type": "markdown",
   "metadata": {},
   "source": [
    "### Create (new?) target, change in BPM"
   ]
  },
  {
   "cell_type": "code",
   "execution_count": 23,
   "metadata": {},
   "outputs": [],
   "source": [
    "all_df['diff'] = all_df['bpm'] - all_df['bpm___1']"
   ]
  },
  {
   "cell_type": "code",
   "execution_count": 24,
   "metadata": {},
   "outputs": [],
   "source": [
    "all_df.to_msgpack('feature_df.mp')"
   ]
  },
  {
   "cell_type": "code",
   "execution_count": 25,
   "metadata": {},
   "outputs": [
    {
     "data": {
      "text/plain": [
       "2020"
      ]
     },
     "execution_count": 25,
     "metadata": {},
     "output_type": "execute_result"
    }
   ],
   "source": [
    "all_df['year'].max()"
   ]
  },
  {
   "cell_type": "markdown",
   "metadata": {},
   "source": [
    "#### New feature - minutes played last season that are coming back"
   ]
  },
  {
   "cell_type": "code",
   "execution_count": 26,
   "metadata": {},
   "outputs": [
    {
     "data": {
      "text/plain": [
       "(18577, 124)"
      ]
     },
     "execution_count": 26,
     "metadata": {},
     "output_type": "execute_result"
    }
   ],
   "source": [
    "all_df = pd.read_msgpack(\"feature_df.mp\")\n",
    "all_df.shape"
   ]
  },
  {
   "cell_type": "code",
   "execution_count": 27,
   "metadata": {},
   "outputs": [],
   "source": [
    "team_mp = (\n",
    "    all_stats[['id', 'team_id', 'year', 'player_url', 'mp', 'bpm', 'started_team', 'pos']]\n",
    "    .merge(all_df[[\"id\", \"mp___1\", \"g___1\", \"same_team\"]], on=[\"id\"], how=\"left\")\n",
    "    [lambda x: x['started_team'] != \"TOT\"]\n",
    "    [lambda x: x['year'] != 1999]\n",
    ")\n",
    "\n",
    "team_mp['g___1'] = team_mp['g___1'].astype(float)\n",
    "team_mp['mpg___1'] = team_mp['mp___1'] / team_mp['g___1']"
   ]
  },
  {
   "cell_type": "code",
   "execution_count": 28,
   "metadata": {},
   "outputs": [],
   "source": [
    "def agg_mp___1(cols):\n",
    "    return (\n",
    "        team_mp\n",
    "        .groupby(cols)['mp___1'].sum()\n",
    "    )"
   ]
  },
  {
   "cell_type": "code",
   "execution_count": 29,
   "metadata": {},
   "outputs": [],
   "source": [
    "mp_last = agg_mp___1(['started_team', 'year'])\n",
    "mp_last_new_old = agg_mp___1(['started_team', 'year', 'same_team']).unstack('same_team')\n",
    "\n",
    "pos_mp_last = agg_mp___1(['started_team', 'year', 'pos'])\n",
    "pos_mp_last_new_old = agg_mp___1(['started_team', 'year', 'pos', 'same_team']).unstack('same_team')"
   ]
  },
  {
   "cell_type": "code",
   "execution_count": 30,
   "metadata": {},
   "outputs": [
    {
     "data": {
      "text/plain": [
       "(False, False)"
      ]
     },
     "execution_count": 30,
     "metadata": {},
     "output_type": "execute_result"
    }
   ],
   "source": [
    "all_stats[\"id\"].duplicated().any(), all_df[\"id\"].duplicated().any()"
   ]
  },
  {
   "cell_type": "code",
   "execution_count": 31,
   "metadata": {},
   "outputs": [],
   "source": [
    "all_df = (\n",
    "    all_df\n",
    "    .merge(\n",
    "        all_stats[[\"id\", \"started_team\", \"pos\"]], on=[\"id\"], how=\"left\"\n",
    "    )\n",
    "    .merge(\n",
    "        mp_last.to_frame(\"team_mp___1\").reset_index(), on=[\"started_team\", \"year\"], how=\"left\"\n",
    "    )\n",
    "    .merge(\n",
    "        mp_last_new_old\n",
    "        .rename(columns=lambda x: \"team_mp___1_{}\".format(\"new\" if x < 0.5 else \"returning\"))\n",
    "        .reset_index(),\n",
    "        on=[\"started_team\", \"year\"],\n",
    "        how=\"left\"\n",
    "    )\n",
    "    .merge(\n",
    "        pos_mp_last.to_frame(\"pos_team_mp___1\").reset_index(), \n",
    "        on=[\"pos\", \"started_team\", \"year\"], \n",
    "        how=\"left\"\n",
    "    )\n",
    "    .merge(\n",
    "        pos_mp_last_new_old\n",
    "        .rename(columns=lambda x: \"pos_team_mp___1_{}\".format(\"new\" if x < 0.5 else \"returning\"))\n",
    "        .reset_index(),\n",
    "        on=[\"pos\", \"started_team\", \"year\"],\n",
    "        how=\"left\"\n",
    "    )\n",
    ")"
   ]
  },
  {
   "cell_type": "code",
   "execution_count": 32,
   "metadata": {},
   "outputs": [],
   "source": [
    "all_df['last_year_mvp'] = all_df['mvp_award_share___1'].notnull()"
   ]
  },
  {
   "cell_type": "code",
   "execution_count": 34,
   "metadata": {},
   "outputs": [
    {
     "data": {
      "text/plain": [
       "player_url                          /players/a/abdulza01.html\n",
       "year                                                     1974\n",
       "ws                                                        6.5\n",
       "id                           /players/a/abdulza01.html___1974\n",
       "bpm                                                         1\n",
       "mp                                                       2459\n",
       "age                                                        27\n",
       "pick_overall                                                5\n",
       "C                                                           1\n",
       "F                                                           0\n",
       "G                                                           0\n",
       "PF                                                          0\n",
       "PG                                                          0\n",
       "SF                                                          0\n",
       "SG                                                          0\n",
       "college_name                                            False\n",
       "same_team                                                   1\n",
       "team_age_old                                          25.4545\n",
       "consistency                                          0.984922\n",
       "consistency1                                         0.984922\n",
       "traded                                                  False\n",
       "year_coaching                                               0\n",
       "years_pro                                                   5\n",
       "mp___1                                                    900\n",
       "g___1                                                      48\n",
       "bpm___1                                                   NaN\n",
       "ts_pct___1                                              0.467\n",
       "per___1                                                  14.5\n",
       "usg_pct___1                                               NaN\n",
       "obpm___1                                                  NaN\n",
       "                                           ...               \n",
       "ows___3                                                     1\n",
       "dws___3                                                   0.8\n",
       "win_loss_pct___3                                        0.463\n",
       "srs___3                                                 -1.53\n",
       "pace_rel___3                                              1.4\n",
       "off_rtg_rel___3                                           1.2\n",
       "def_rtg_rel___3                                           2.9\n",
       "made_playoffs___3                                           1\n",
       "playoff_mp___3                                            NaN\n",
       "playoff_bpm___3                                           NaN\n",
       "mvp_award_share___3                                       NaN\n",
       "mip_award_share___3                                       NaN\n",
       "roy_award_share___3                                       NaN\n",
       "lot_of_min                                               True\n",
       "ws_diff                                                  -0.9\n",
       "bpm_diff                                                  NaN\n",
       "mp_diff                                                  -880\n",
       "bpm_int                                                   NaN\n",
       "bpm_diff_2                                                NaN\n",
       "bpm_age_int                                               NaN\n",
       "diff                                                      NaN\n",
       "started_team                                              HOU\n",
       "pos                                                         C\n",
       "team_mp___1                                             19499\n",
       "team_mp___1_new                                             0\n",
       "team_mp___1_returning                                   19205\n",
       "pos_team_mp___1                                          3781\n",
       "pos_team_mp___1_new                                       NaN\n",
       "pos_team_mp___1_returning                                3781\n",
       "last_year_mvp                                           False\n",
       "Name: 0, Length: 133, dtype: object"
      ]
     },
     "execution_count": 34,
     "metadata": {},
     "output_type": "execute_result"
    }
   ],
   "source": [
    "all_df.iloc[0]"
   ]
  },
  {
   "cell_type": "code",
   "execution_count": 33,
   "metadata": {},
   "outputs": [],
   "source": [
    "all_df.to_msgpack('feature_df___w_mp.mp')"
   ]
  },
  {
   "cell_type": "code",
   "execution_count": null,
   "metadata": {},
   "outputs": [],
   "source": []
  }
 ],
 "metadata": {
  "kernelspec": {
   "display_name": "Python 3",
   "language": "python",
   "name": "python3"
  },
  "language_info": {
   "codemirror_mode": {
    "name": "ipython",
    "version": 3
   },
   "file_extension": ".py",
   "mimetype": "text/x-python",
   "name": "python",
   "nbconvert_exporter": "python",
   "pygments_lexer": "ipython3",
   "version": "3.6.5"
  }
 },
 "nbformat": 4,
 "nbformat_minor": 2
}
