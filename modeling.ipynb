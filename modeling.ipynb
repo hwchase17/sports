{
 "cells": [
  {
   "cell_type": "code",
   "execution_count": 1,
   "metadata": {
    "collapsed": true
   },
   "outputs": [],
   "source": [
    "# Notebook for performing analysis. Please excuse any messinesses"
   ]
  },
  {
   "cell_type": "code",
   "execution_count": 2,
   "metadata": {
    "collapsed": true
   },
   "outputs": [],
   "source": [
    "import pandas as pd\n",
    "import numpy as np\n",
    "from sklearn.linear_model import LogisticRegressionCV\n",
    "import tqdm\n",
    "from sklearn.metrics import log_loss"
   ]
  },
  {
   "cell_type": "markdown",
   "metadata": {},
   "source": [
    "### Load any and all relevant data"
   ]
  },
  {
   "cell_type": "code",
   "execution_count": 3,
   "metadata": {
    "collapsed": true
   },
   "outputs": [],
   "source": [
    "preprocessed_df = pd.read_msgpack('preprocessed_df.mp').sample(frac=1)\n",
    "player_info = pd.read_msgpack('player_info_2017-18.mp')"
   ]
  },
  {
   "cell_type": "markdown",
   "metadata": {},
   "source": [
    "### Get X and Y dataframes"
   ]
  },
  {
   "cell_type": "code",
   "execution_count": 4,
   "metadata": {},
   "outputs": [
    {
     "data": {
      "text/plain": [
       "Index([u'SHOT_TYPE', u'off101106', u'off101107', u'off101108', u'off101109',\n",
       "       u'off101112', u'off101123', u'off101127', u'off101133', u'off101139',\n",
       "       ...\n",
       "       u'shoot2734', u'shoot2736', u'shoot2738', u'shoot2744', u'shoot2746',\n",
       "       u'shoot2747', u'shoot2749', u'shoot2754', u'shoot2772', u'shoot2863'],\n",
       "      dtype='object', length=1615)"
      ]
     },
     "execution_count": 4,
     "metadata": {},
     "output_type": "execute_result"
    }
   ],
   "source": [
    "preprocessed_df.columns[4:]"
   ]
  },
  {
   "cell_type": "code",
   "execution_count": 5,
   "metadata": {
    "collapsed": true
   },
   "outputs": [],
   "source": [
    "y_loc = preprocessed_df['SHOT_ZONE_BASIC']\n",
    "y_make = preprocessed_df['SHOT_MADE_FLAG'].astype(int)\n",
    "y_type = pd.Series(['Miss' if x ==0 else y for x,y in zip(preprocessed_df['SHOT_MADE_FLAG'], preprocessed_df['SHOT_TYPE'])], index=preprocessed_df.index)\n",
    "x_df = preprocessed_df[preprocessed_df.columns[5:]]"
   ]
  },
  {
   "cell_type": "markdown",
   "metadata": {},
   "source": [
    "### Add player positions"
   ]
  },
  {
   "cell_type": "code",
   "execution_count": 6,
   "metadata": {
    "collapsed": true
   },
   "outputs": [],
   "source": [
    "def add_pos(x_train_pos):\n",
    "    for type_ in ['shoot', 'off', 'def']:\n",
    "        for pos in player_info['pos'].unique():\n",
    "            x_train_pos['{}{}'.format(type_, pos)] = 0\n",
    "    for col in tqdm.tqdm(x_df.columns):\n",
    "        if col[0] == 'o':\n",
    "            type_ = 'off'\n",
    "        elif col[0] == 's':\n",
    "            type_ = 'shoot'\n",
    "        else:\n",
    "            type_ = 'def'\n",
    "        player = col.replace(type_,'')\n",
    "        pos = player_pos_dict[int(player)]\n",
    "        x_train_pos['{}{}'.format(type_, pos)] = x_train_pos['{}{}'.format(type_, pos)] + x_train_pos[col]\n",
    "    return x_train_pos"
   ]
  },
  {
   "cell_type": "code",
   "execution_count": 7,
   "metadata": {},
   "outputs": [
    {
     "data": {
      "text/plain": [
       "Guard      224\n",
       "Forward    187\n",
       "Center      84\n",
       "            45\n",
       "Name: pos, dtype: int64"
      ]
     },
     "execution_count": 7,
     "metadata": {},
     "output_type": "execute_result"
    }
   ],
   "source": [
    "player_info['pos'] = player_info['POSITION'].str.split('-').apply(lambda x: x[0])\n",
    "player_info['pos'].value_counts()"
   ]
  },
  {
   "cell_type": "code",
   "execution_count": 8,
   "metadata": {
    "collapsed": true
   },
   "outputs": [],
   "source": [
    "position_filler = {'Guard': [2754, 203505, 201628, 203477, 1628492, 1627982, 204066,\n",
    "                             1628455, 1627215, 202714, 203590, 1628513, 1626242, 1628506,\n",
    "                             1626643, 1627817, 1628504, 1626173, 2863, 1628475, 203489],\n",
    "                   'Forward': [1627852, 201956, 203816, 1626205, 1627744, 204179,1627851,\n",
    "                               203949, 201177, 203948, 203940, 202347, 203186, 2746,\n",
    "                              203141, 1627866, 202682, 203966, 203923],\n",
    "                   'Center': [101106, 1627762, 1628451, 203481, 201148]}\n"
   ]
  },
  {
   "cell_type": "code",
   "execution_count": 9,
   "metadata": {
    "collapsed": true
   },
   "outputs": [],
   "source": [
    "player_pos_dict = dict(player_info[['PERSON_ID','pos']].values)\n",
    "for pos, player_list in position_filler.iteritems():\n",
    "    for player in player_list:\n",
    "        player_pos_dict[player] = pos"
   ]
  },
  {
   "cell_type": "code",
   "execution_count": 10,
   "metadata": {},
   "outputs": [
    {
     "data": {
      "text/plain": [
       "Guard      245\n",
       "Forward    206\n",
       "Center      89\n",
       "dtype: int64"
      ]
     },
     "execution_count": 10,
     "metadata": {},
     "output_type": "execute_result"
    }
   ],
   "source": [
    "pd.Series(player_pos_dict).value_counts()"
   ]
  },
  {
   "cell_type": "code",
   "execution_count": 11,
   "metadata": {},
   "outputs": [
    {
     "name": "stderr",
     "output_type": "stream",
     "text": [
      "100%|██████████| 1614/1614 [00:02<00:00, 614.80it/s]\n"
     ]
    }
   ],
   "source": [
    "x_df_pos = add_pos(x_df.copy())"
   ]
  },
  {
   "cell_type": "markdown",
   "metadata": {},
   "source": [
    "### Split into time respecting train and validation indices"
   ]
  },
  {
   "cell_type": "code",
   "execution_count": 12,
   "metadata": {
    "collapsed": true
   },
   "outputs": [],
   "source": [
    "train_index = preprocessed_df[preprocessed_df['GAME_ID']<='0021701100'].index\n",
    "test_index = preprocessed_df[preprocessed_df['GAME_ID']>'0021701100'].index"
   ]
  },
  {
   "cell_type": "code",
   "execution_count": 13,
   "metadata": {},
   "outputs": [],
   "source": [
    "x_train = x_df_pos.loc[train_index]\n",
    "x_base = x_df.loc[train_index]\n",
    "y_loc_train = y_loc.loc[train_index]\n",
    "y_make_train = y_make.loc[train_index]\n",
    "y_type_train = y_type.loc[train_index]"
   ]
  },
  {
   "cell_type": "code",
   "execution_count": 14,
   "metadata": {
    "collapsed": true
   },
   "outputs": [],
   "source": [
    "x_test = x_df.loc[test_index]\n",
    "y_loc_test = y_loc.loc[test_index]\n",
    "y_make_test = y_make.loc[test_index]\n",
    "y_type_test = y_type.loc[test_index]"
   ]
  },
  {
   "cell_type": "code",
   "execution_count": 15,
   "metadata": {},
   "outputs": [
    {
     "data": {
      "text/plain": [
       "(189002, 1626)"
      ]
     },
     "execution_count": 15,
     "metadata": {},
     "output_type": "execute_result"
    }
   ],
   "source": [
    "x_train.shape"
   ]
  },
  {
   "cell_type": "markdown",
   "metadata": {},
   "source": [
    "### Make alternate test dfs"
   ]
  },
  {
   "cell_type": "code",
   "execution_count": 16,
   "metadata": {},
   "outputs": [
    {
     "name": "stderr",
     "output_type": "stream",
     "text": [
      "22704it [01:58, 192.34it/s]\n"
     ]
    }
   ],
   "source": [
    "x_test_copies = [[],[],[],[]]\n",
    "shooters = []\n",
    "for index, row in tqdm.tqdm(x_test.iterrows()):\n",
    "    offs = [x.replace('off','') for x in row[lambda x: x==1].reset_index()[lambda x: x['index'].str.contains('off')]['index']]\n",
    "    shooter = [x.replace('shoot','') for x in row[lambda x: x==1].reset_index()[lambda x: x['index'].str.contains('shoot')]['index']][0]\n",
    "    row_base = row.copy()\n",
    "    shooters.append([shooter] + offs)\n",
    "    row_base['shoot{}'.format(shooter)] = 0\n",
    "    row_base['off{}'.format(shooter)] = 1\n",
    "    for ix, off in enumerate(offs):\n",
    "        row_new = row_base.copy()\n",
    "        row_new['off{}'.format(off)] = 0\n",
    "        row_new['shoot{}'.format(off)] = 1\n",
    "        x_test_copies[ix].append(row_new)"
   ]
  },
  {
   "cell_type": "code",
   "execution_count": 17,
   "metadata": {
    "scrolled": true
   },
   "outputs": [
    {
     "name": "stderr",
     "output_type": "stream",
     "text": [
      "100%|██████████| 1614/1614 [00:00<00:00, 2157.55it/s]\n",
      "100%|██████████| 1614/1614 [00:00<00:00, 1813.56it/s]\n",
      "100%|██████████| 1614/1614 [00:01<00:00, 1594.84it/s]\n",
      "100%|██████████| 1614/1614 [00:00<00:00, 1684.58it/s]\n",
      "100%|██████████| 1614/1614 [00:00<00:00, 1774.07it/s]\n"
     ]
    }
   ],
   "source": [
    "x_test_0 = add_pos(x_test.copy())\n",
    "x_test_1 = add_pos(pd.concat(x_test_copies[0], axis=1).T)\n",
    "x_test_2 = add_pos(pd.concat(x_test_copies[1], axis=1).T)\n",
    "x_test_3 = add_pos(pd.concat(x_test_copies[2], axis=1).T)\n",
    "x_test_4 = add_pos(pd.concat(x_test_copies[3], axis=1).T)"
   ]
  },
  {
   "cell_type": "markdown",
   "metadata": {},
   "source": [
    "### Get baseline"
   ]
  },
  {
   "cell_type": "code",
   "execution_count": 19,
   "metadata": {},
   "outputs": [],
   "source": [
    "test_type_df = pd.get_dummies(y_type_test)"
   ]
  },
  {
   "cell_type": "code",
   "execution_count": 20,
   "metadata": {
    "collapsed": true
   },
   "outputs": [],
   "source": [
    "test_type_df_pred_base = test_type_df.copy()\n",
    "for type_ in test_type_df.columns:\n",
    "    test_type_df_pred_base[type_] = (y_type_train.value_counts()/ len(y_type_train))[type_]"
   ]
  },
  {
   "cell_type": "code",
   "execution_count": 24,
   "metadata": {
    "collapsed": true
   },
   "outputs": [],
   "source": [
    "def score_preds(pct_make_test):\n",
    "    m_logloss = []\n",
    "    for type_ in y_type_train.unique():\n",
    "        m_logloss.append(log_loss(test_type_df[type_], pct_make_test[type_]))\n",
    "        print type_, log_loss(test_type_df[type_], pct_make_test[type_])\n",
    "    print np.average(m_logloss)"
   ]
  },
  {
   "cell_type": "code",
   "execution_count": 25,
   "metadata": {},
   "outputs": [
    {
     "name": "stdout",
     "output_type": "stream",
     "text": [
      "Miss 0.689638514677234\n",
      "3PT Field Goal 0.3682935288331273\n",
      "2PT Field Goal 0.6392885472094791\n",
      "0.5657401969066135\n"
     ]
    }
   ],
   "source": [
    "score_preds(test_type_df_pred_base)"
   ]
  },
  {
   "cell_type": "markdown",
   "metadata": {},
   "source": [
    "### Fit initial models"
   ]
  },
  {
   "cell_type": "code",
   "execution_count": 26,
   "metadata": {
    "scrolled": true
   },
   "outputs": [
    {
     "name": "stderr",
     "output_type": "stream",
     "text": [
      "/Users/harrisonchase/workplace/kensho-learn/kml/lib/python2.7/site-packages/sklearn/metrics/scorer.py:137: DeprecationWarning: Scoring method log_loss was renamed to neg_log_loss in version 0.18 and will be removed in 0.20.\n",
      "  sample_weight=sample_weight)\n",
      "/Users/harrisonchase/workplace/kensho-learn/kml/lib/python2.7/site-packages/sklearn/metrics/scorer.py:137: DeprecationWarning: Scoring method log_loss was renamed to neg_log_loss in version 0.18 and will be removed in 0.20.\n",
      "  sample_weight=sample_weight)\n",
      "/Users/harrisonchase/workplace/kensho-learn/kml/lib/python2.7/site-packages/sklearn/metrics/scorer.py:137: DeprecationWarning: Scoring method log_loss was renamed to neg_log_loss in version 0.18 and will be removed in 0.20.\n",
      "  sample_weight=sample_weight)\n",
      "/Users/harrisonchase/workplace/kensho-learn/kml/lib/python2.7/site-packages/sklearn/metrics/scorer.py:137: DeprecationWarning: Scoring method log_loss was renamed to neg_log_loss in version 0.18 and will be removed in 0.20.\n",
      "  sample_weight=sample_weight)\n",
      "/Users/harrisonchase/workplace/kensho-learn/kml/lib/python2.7/site-packages/sklearn/metrics/scorer.py:137: DeprecationWarning: Scoring method log_loss was renamed to neg_log_loss in version 0.18 and will be removed in 0.20.\n",
      "  sample_weight=sample_weight)\n",
      "/Users/harrisonchase/workplace/kensho-learn/kml/lib/python2.7/site-packages/sklearn/metrics/scorer.py:137: DeprecationWarning: Scoring method log_loss was renamed to neg_log_loss in version 0.18 and will be removed in 0.20.\n",
      "  sample_weight=sample_weight)\n",
      "/Users/harrisonchase/workplace/kensho-learn/kml/lib/python2.7/site-packages/sklearn/metrics/scorer.py:137: DeprecationWarning: Scoring method log_loss was renamed to neg_log_loss in version 0.18 and will be removed in 0.20.\n",
      "  sample_weight=sample_weight)\n",
      "/Users/harrisonchase/workplace/kensho-learn/kml/lib/python2.7/site-packages/sklearn/metrics/scorer.py:137: DeprecationWarning: Scoring method log_loss was renamed to neg_log_loss in version 0.18 and will be removed in 0.20.\n",
      "  sample_weight=sample_weight)\n",
      "/Users/harrisonchase/workplace/kensho-learn/kml/lib/python2.7/site-packages/sklearn/metrics/scorer.py:137: DeprecationWarning: Scoring method log_loss was renamed to neg_log_loss in version 0.18 and will be removed in 0.20.\n",
      "  sample_weight=sample_weight)\n",
      "/Users/harrisonchase/workplace/kensho-learn/kml/lib/python2.7/site-packages/sklearn/metrics/scorer.py:137: DeprecationWarning: Scoring method log_loss was renamed to neg_log_loss in version 0.18 and will be removed in 0.20.\n",
      "  sample_weight=sample_weight)\n",
      "/Users/harrisonchase/workplace/kensho-learn/kml/lib/python2.7/site-packages/sklearn/metrics/scorer.py:137: DeprecationWarning: Scoring method log_loss was renamed to neg_log_loss in version 0.18 and will be removed in 0.20.\n",
      "  sample_weight=sample_weight)\n",
      "/Users/harrisonchase/workplace/kensho-learn/kml/lib/python2.7/site-packages/sklearn/metrics/scorer.py:137: DeprecationWarning: Scoring method log_loss was renamed to neg_log_loss in version 0.18 and will be removed in 0.20.\n",
      "  sample_weight=sample_weight)\n",
      "/Users/harrisonchase/workplace/kensho-learn/kml/lib/python2.7/site-packages/sklearn/metrics/scorer.py:137: DeprecationWarning: Scoring method log_loss was renamed to neg_log_loss in version 0.18 and will be removed in 0.20.\n",
      "  sample_weight=sample_weight)\n",
      "/Users/harrisonchase/workplace/kensho-learn/kml/lib/python2.7/site-packages/sklearn/metrics/scorer.py:137: DeprecationWarning: Scoring method log_loss was renamed to neg_log_loss in version 0.18 and will be removed in 0.20.\n",
      "  sample_weight=sample_weight)\n",
      "/Users/harrisonchase/workplace/kensho-learn/kml/lib/python2.7/site-packages/sklearn/metrics/scorer.py:137: DeprecationWarning: Scoring method log_loss was renamed to neg_log_loss in version 0.18 and will be removed in 0.20.\n",
      "  sample_weight=sample_weight)\n",
      "/Users/harrisonchase/workplace/kensho-learn/kml/lib/python2.7/site-packages/sklearn/metrics/scorer.py:137: DeprecationWarning: Scoring method log_loss was renamed to neg_log_loss in version 0.18 and will be removed in 0.20.\n",
      "  sample_weight=sample_weight)\n",
      "/Users/harrisonchase/workplace/kensho-learn/kml/lib/python2.7/site-packages/sklearn/metrics/scorer.py:137: DeprecationWarning: Scoring method log_loss was renamed to neg_log_loss in version 0.18 and will be removed in 0.20.\n",
      "  sample_weight=sample_weight)\n",
      "/Users/harrisonchase/workplace/kensho-learn/kml/lib/python2.7/site-packages/sklearn/metrics/scorer.py:137: DeprecationWarning: Scoring method log_loss was renamed to neg_log_loss in version 0.18 and will be removed in 0.20.\n",
      "  sample_weight=sample_weight)\n",
      "/Users/harrisonchase/workplace/kensho-learn/kml/lib/python2.7/site-packages/sklearn/metrics/scorer.py:137: DeprecationWarning: Scoring method log_loss was renamed to neg_log_loss in version 0.18 and will be removed in 0.20.\n",
      "  sample_weight=sample_weight)\n",
      "/Users/harrisonchase/workplace/kensho-learn/kml/lib/python2.7/site-packages/sklearn/metrics/scorer.py:137: DeprecationWarning: Scoring method log_loss was renamed to neg_log_loss in version 0.18 and will be removed in 0.20.\n",
      "  sample_weight=sample_weight)\n",
      "/Users/harrisonchase/workplace/kensho-learn/kml/lib/python2.7/site-packages/sklearn/metrics/scorer.py:137: DeprecationWarning: Scoring method log_loss was renamed to neg_log_loss in version 0.18 and will be removed in 0.20.\n",
      "  sample_weight=sample_weight)\n",
      "/Users/harrisonchase/workplace/kensho-learn/kml/lib/python2.7/site-packages/sklearn/metrics/scorer.py:137: DeprecationWarning: Scoring method log_loss was renamed to neg_log_loss in version 0.18 and will be removed in 0.20.\n",
      "  sample_weight=sample_weight)\n",
      "/Users/harrisonchase/workplace/kensho-learn/kml/lib/python2.7/site-packages/sklearn/metrics/scorer.py:137: DeprecationWarning: Scoring method log_loss was renamed to neg_log_loss in version 0.18 and will be removed in 0.20.\n",
      "  sample_weight=sample_weight)\n",
      "/Users/harrisonchase/workplace/kensho-learn/kml/lib/python2.7/site-packages/sklearn/metrics/scorer.py:137: DeprecationWarning: Scoring method log_loss was renamed to neg_log_loss in version 0.18 and will be removed in 0.20.\n",
      "  sample_weight=sample_weight)\n",
      "/Users/harrisonchase/workplace/kensho-learn/kml/lib/python2.7/site-packages/sklearn/metrics/scorer.py:137: DeprecationWarning: Scoring method log_loss was renamed to neg_log_loss in version 0.18 and will be removed in 0.20.\n",
      "  sample_weight=sample_weight)\n",
      "/Users/harrisonchase/workplace/kensho-learn/kml/lib/python2.7/site-packages/sklearn/metrics/scorer.py:137: DeprecationWarning: Scoring method log_loss was renamed to neg_log_loss in version 0.18 and will be removed in 0.20.\n",
      "  sample_weight=sample_weight)\n",
      "/Users/harrisonchase/workplace/kensho-learn/kml/lib/python2.7/site-packages/sklearn/metrics/scorer.py:137: DeprecationWarning: Scoring method log_loss was renamed to neg_log_loss in version 0.18 and will be removed in 0.20.\n",
      "  sample_weight=sample_weight)\n",
      "/Users/harrisonchase/workplace/kensho-learn/kml/lib/python2.7/site-packages/sklearn/metrics/scorer.py:137: DeprecationWarning: Scoring method log_loss was renamed to neg_log_loss in version 0.18 and will be removed in 0.20.\n",
      "  sample_weight=sample_weight)\n",
      "/Users/harrisonchase/workplace/kensho-learn/kml/lib/python2.7/site-packages/sklearn/metrics/scorer.py:137: DeprecationWarning: Scoring method log_loss was renamed to neg_log_loss in version 0.18 and will be removed in 0.20.\n",
      "  sample_weight=sample_weight)\n",
      "/Users/harrisonchase/workplace/kensho-learn/kml/lib/python2.7/site-packages/sklearn/metrics/scorer.py:137: DeprecationWarning: Scoring method log_loss was renamed to neg_log_loss in version 0.18 and will be removed in 0.20.\n",
      "  sample_weight=sample_weight)\n"
     ]
    },
    {
     "name": "stdout",
     "output_type": "stream",
     "text": [
      "CPU times: user 2h 54min 45s, sys: 13min, total: 3h 7min 46s\n",
      "Wall time: 34min 19s\n"
     ]
    }
   ],
   "source": [
    "%%time\n",
    "model_train_loc = LogisticRegressionCV(multi_class='multinomial', scoring='log_loss').fit(x_train, y_loc_train)"
   ]
  },
  {
   "cell_type": "code",
   "execution_count": 27,
   "metadata": {},
   "outputs": [
    {
     "name": "stderr",
     "output_type": "stream",
     "text": [
      "100%|██████████| 7/7 [10:03<00:00, 86.19s/it] \n"
     ]
    }
   ],
   "source": [
    "models_train = {}\n",
    "for class_ in tqdm.tqdm(y_loc.unique()):\n",
    "    shot_index = y_loc_train[lambda x: x==class_].index\n",
    "    y_make_train_sub = y_make_train.loc[shot_index]\n",
    "    x_train_sub = x_train.loc[shot_index]\n",
    "    models_train[class_] = LogisticRegressionCV(scoring='neg_log_loss').fit(x_train_sub, y_make_train_sub)"
   ]
  },
  {
   "cell_type": "markdown",
   "metadata": {},
   "source": [
    "### Do not include position dummies"
   ]
  },
  {
   "cell_type": "code",
   "execution_count": 28,
   "metadata": {
    "scrolled": true
   },
   "outputs": [
    {
     "name": "stderr",
     "output_type": "stream",
     "text": [
      "/Users/harrisonchase/workplace/kensho-learn/kml/lib/python2.7/site-packages/sklearn/metrics/scorer.py:137: DeprecationWarning: Scoring method log_loss was renamed to neg_log_loss in version 0.18 and will be removed in 0.20.\n",
      "  sample_weight=sample_weight)\n",
      "/Users/harrisonchase/workplace/kensho-learn/kml/lib/python2.7/site-packages/sklearn/metrics/scorer.py:137: DeprecationWarning: Scoring method log_loss was renamed to neg_log_loss in version 0.18 and will be removed in 0.20.\n",
      "  sample_weight=sample_weight)\n",
      "/Users/harrisonchase/workplace/kensho-learn/kml/lib/python2.7/site-packages/sklearn/metrics/scorer.py:137: DeprecationWarning: Scoring method log_loss was renamed to neg_log_loss in version 0.18 and will be removed in 0.20.\n",
      "  sample_weight=sample_weight)\n",
      "/Users/harrisonchase/workplace/kensho-learn/kml/lib/python2.7/site-packages/sklearn/metrics/scorer.py:137: DeprecationWarning: Scoring method log_loss was renamed to neg_log_loss in version 0.18 and will be removed in 0.20.\n",
      "  sample_weight=sample_weight)\n",
      "/Users/harrisonchase/workplace/kensho-learn/kml/lib/python2.7/site-packages/sklearn/metrics/scorer.py:137: DeprecationWarning: Scoring method log_loss was renamed to neg_log_loss in version 0.18 and will be removed in 0.20.\n",
      "  sample_weight=sample_weight)\n",
      "/Users/harrisonchase/workplace/kensho-learn/kml/lib/python2.7/site-packages/sklearn/metrics/scorer.py:137: DeprecationWarning: Scoring method log_loss was renamed to neg_log_loss in version 0.18 and will be removed in 0.20.\n",
      "  sample_weight=sample_weight)\n",
      "/Users/harrisonchase/workplace/kensho-learn/kml/lib/python2.7/site-packages/sklearn/metrics/scorer.py:137: DeprecationWarning: Scoring method log_loss was renamed to neg_log_loss in version 0.18 and will be removed in 0.20.\n",
      "  sample_weight=sample_weight)\n",
      "/Users/harrisonchase/workplace/kensho-learn/kml/lib/python2.7/site-packages/sklearn/metrics/scorer.py:137: DeprecationWarning: Scoring method log_loss was renamed to neg_log_loss in version 0.18 and will be removed in 0.20.\n",
      "  sample_weight=sample_weight)\n",
      "/Users/harrisonchase/workplace/kensho-learn/kml/lib/python2.7/site-packages/sklearn/metrics/scorer.py:137: DeprecationWarning: Scoring method log_loss was renamed to neg_log_loss in version 0.18 and will be removed in 0.20.\n",
      "  sample_weight=sample_weight)\n",
      "/Users/harrisonchase/workplace/kensho-learn/kml/lib/python2.7/site-packages/sklearn/metrics/scorer.py:137: DeprecationWarning: Scoring method log_loss was renamed to neg_log_loss in version 0.18 and will be removed in 0.20.\n",
      "  sample_weight=sample_weight)\n",
      "/Users/harrisonchase/workplace/kensho-learn/kml/lib/python2.7/site-packages/sklearn/metrics/scorer.py:137: DeprecationWarning: Scoring method log_loss was renamed to neg_log_loss in version 0.18 and will be removed in 0.20.\n",
      "  sample_weight=sample_weight)\n",
      "/Users/harrisonchase/workplace/kensho-learn/kml/lib/python2.7/site-packages/sklearn/metrics/scorer.py:137: DeprecationWarning: Scoring method log_loss was renamed to neg_log_loss in version 0.18 and will be removed in 0.20.\n",
      "  sample_weight=sample_weight)\n",
      "/Users/harrisonchase/workplace/kensho-learn/kml/lib/python2.7/site-packages/sklearn/metrics/scorer.py:137: DeprecationWarning: Scoring method log_loss was renamed to neg_log_loss in version 0.18 and will be removed in 0.20.\n",
      "  sample_weight=sample_weight)\n",
      "/Users/harrisonchase/workplace/kensho-learn/kml/lib/python2.7/site-packages/sklearn/metrics/scorer.py:137: DeprecationWarning: Scoring method log_loss was renamed to neg_log_loss in version 0.18 and will be removed in 0.20.\n",
      "  sample_weight=sample_weight)\n",
      "/Users/harrisonchase/workplace/kensho-learn/kml/lib/python2.7/site-packages/sklearn/metrics/scorer.py:137: DeprecationWarning: Scoring method log_loss was renamed to neg_log_loss in version 0.18 and will be removed in 0.20.\n",
      "  sample_weight=sample_weight)\n",
      "/Users/harrisonchase/workplace/kensho-learn/kml/lib/python2.7/site-packages/sklearn/metrics/scorer.py:137: DeprecationWarning: Scoring method log_loss was renamed to neg_log_loss in version 0.18 and will be removed in 0.20.\n",
      "  sample_weight=sample_weight)\n",
      "/Users/harrisonchase/workplace/kensho-learn/kml/lib/python2.7/site-packages/sklearn/metrics/scorer.py:137: DeprecationWarning: Scoring method log_loss was renamed to neg_log_loss in version 0.18 and will be removed in 0.20.\n",
      "  sample_weight=sample_weight)\n",
      "/Users/harrisonchase/workplace/kensho-learn/kml/lib/python2.7/site-packages/sklearn/metrics/scorer.py:137: DeprecationWarning: Scoring method log_loss was renamed to neg_log_loss in version 0.18 and will be removed in 0.20.\n",
      "  sample_weight=sample_weight)\n",
      "/Users/harrisonchase/workplace/kensho-learn/kml/lib/python2.7/site-packages/sklearn/metrics/scorer.py:137: DeprecationWarning: Scoring method log_loss was renamed to neg_log_loss in version 0.18 and will be removed in 0.20.\n",
      "  sample_weight=sample_weight)\n",
      "/Users/harrisonchase/workplace/kensho-learn/kml/lib/python2.7/site-packages/sklearn/metrics/scorer.py:137: DeprecationWarning: Scoring method log_loss was renamed to neg_log_loss in version 0.18 and will be removed in 0.20.\n",
      "  sample_weight=sample_weight)\n",
      "/Users/harrisonchase/workplace/kensho-learn/kml/lib/python2.7/site-packages/sklearn/metrics/scorer.py:137: DeprecationWarning: Scoring method log_loss was renamed to neg_log_loss in version 0.18 and will be removed in 0.20.\n",
      "  sample_weight=sample_weight)\n",
      "/Users/harrisonchase/workplace/kensho-learn/kml/lib/python2.7/site-packages/sklearn/metrics/scorer.py:137: DeprecationWarning: Scoring method log_loss was renamed to neg_log_loss in version 0.18 and will be removed in 0.20.\n",
      "  sample_weight=sample_weight)\n",
      "/Users/harrisonchase/workplace/kensho-learn/kml/lib/python2.7/site-packages/sklearn/metrics/scorer.py:137: DeprecationWarning: Scoring method log_loss was renamed to neg_log_loss in version 0.18 and will be removed in 0.20.\n",
      "  sample_weight=sample_weight)\n",
      "/Users/harrisonchase/workplace/kensho-learn/kml/lib/python2.7/site-packages/sklearn/metrics/scorer.py:137: DeprecationWarning: Scoring method log_loss was renamed to neg_log_loss in version 0.18 and will be removed in 0.20.\n",
      "  sample_weight=sample_weight)\n",
      "/Users/harrisonchase/workplace/kensho-learn/kml/lib/python2.7/site-packages/sklearn/metrics/scorer.py:137: DeprecationWarning: Scoring method log_loss was renamed to neg_log_loss in version 0.18 and will be removed in 0.20.\n",
      "  sample_weight=sample_weight)\n",
      "/Users/harrisonchase/workplace/kensho-learn/kml/lib/python2.7/site-packages/sklearn/metrics/scorer.py:137: DeprecationWarning: Scoring method log_loss was renamed to neg_log_loss in version 0.18 and will be removed in 0.20.\n",
      "  sample_weight=sample_weight)\n",
      "/Users/harrisonchase/workplace/kensho-learn/kml/lib/python2.7/site-packages/sklearn/metrics/scorer.py:137: DeprecationWarning: Scoring method log_loss was renamed to neg_log_loss in version 0.18 and will be removed in 0.20.\n",
      "  sample_weight=sample_weight)\n",
      "/Users/harrisonchase/workplace/kensho-learn/kml/lib/python2.7/site-packages/sklearn/metrics/scorer.py:137: DeprecationWarning: Scoring method log_loss was renamed to neg_log_loss in version 0.18 and will be removed in 0.20.\n",
      "  sample_weight=sample_weight)\n",
      "/Users/harrisonchase/workplace/kensho-learn/kml/lib/python2.7/site-packages/sklearn/metrics/scorer.py:137: DeprecationWarning: Scoring method log_loss was renamed to neg_log_loss in version 0.18 and will be removed in 0.20.\n",
      "  sample_weight=sample_weight)\n",
      "/Users/harrisonchase/workplace/kensho-learn/kml/lib/python2.7/site-packages/sklearn/metrics/scorer.py:137: DeprecationWarning: Scoring method log_loss was renamed to neg_log_loss in version 0.18 and will be removed in 0.20.\n",
      "  sample_weight=sample_weight)\n"
     ]
    },
    {
     "name": "stdout",
     "output_type": "stream",
     "text": [
      "CPU times: user 2h 23min 48s, sys: 9min 8s, total: 2h 32min 56s\n",
      "Wall time: 23min 57s\n"
     ]
    }
   ],
   "source": [
    "%%time\n",
    "model_train_loc_base = LogisticRegressionCV(multi_class='multinomial', scoring='log_loss').fit(x_base, y_loc_train)"
   ]
  },
  {
   "cell_type": "code",
   "execution_count": 29,
   "metadata": {},
   "outputs": [
    {
     "name": "stderr",
     "output_type": "stream",
     "text": [
      "100%|██████████| 7/7 [07:40<00:00, 65.83s/it]\n"
     ]
    }
   ],
   "source": [
    "models_train_base = {}\n",
    "for class_ in tqdm.tqdm(y_loc.unique()):\n",
    "    shot_index = y_loc_train[lambda x: x==class_].index\n",
    "    y_make_train_sub = y_make_train.loc[shot_index]\n",
    "    x_train_sub = x_base.loc[shot_index]\n",
    "    models_train_base[class_] = LogisticRegressionCV(scoring='neg_log_loss').fit(x_train_sub, y_make_train_sub)"
   ]
  },
  {
   "cell_type": "markdown",
   "metadata": {},
   "source": [
    "### Helper function to combine models"
   ]
  },
  {
   "cell_type": "code",
   "execution_count": 30,
   "metadata": {
    "collapsed": true
   },
   "outputs": [],
   "source": [
    "def make_pct_make(x_test, model_loc, models):\n",
    "    loc_preds_test = pd.DataFrame(model_loc.predict_proba(x_test), columns=model_loc.classes_)\n",
    "    pct_preds_test = {}\n",
    "    for class_ in models.keys():\n",
    "        pct_preds_test[class_] = [x[1] for x in models[class_].predict_proba(x_test)]\n",
    "    pct_preds_test = pd.DataFrame(pct_preds_test)\n",
    "    make_prob_df = (loc_preds_test * pct_preds_test)\n",
    "    pct_preds_outcome = pd.DataFrame(0,index=x_test.index, columns=['Miss', '2PT Field Goal', '3PT Field Goal'])\n",
    "    pct_preds_outcome['Miss'] = (1-make_prob_df.sum(axis=1)).values\n",
    "    pct_preds_outcome['2PT Field Goal'] = make_prob_df[['In The Paint (Non-RA)','Mid-Range', 'Restricted Area']].sum(axis=1).values\n",
    "    pct_preds_outcome['3PT Field Goal'] = make_prob_df[['Above the Break 3', 'Backcourt', 'Left Corner 3', 'Right Corner 3']].sum(axis=1).values\n",
    "    return pct_preds_outcome"
   ]
  },
  {
   "cell_type": "code",
   "execution_count": 31,
   "metadata": {
    "collapsed": true
   },
   "outputs": [],
   "source": [
    "\n",
    "\n",
    "pct_make_test = make_pct_make(x_test_0, model_train_loc, models_train)"
   ]
  },
  {
   "cell_type": "code",
   "execution_count": 32,
   "metadata": {},
   "outputs": [
    {
     "name": "stdout",
     "output_type": "stream",
     "text": [
      "Miss 0.6855066836129877\n",
      "3PT Field Goal 0.34271533085487427\n",
      "2PT Field Goal 0.6143327423598205\n",
      "0.5475182522758941\n"
     ]
    }
   ],
   "source": [
    "score_preds(pct_make_test)"
   ]
  },
  {
   "cell_type": "code",
   "execution_count": 33,
   "metadata": {},
   "outputs": [],
   "source": [
    "pct_make_test_base = make_pct_make(x_test, model_train_loc_base, models_train_base)"
   ]
  },
  {
   "cell_type": "code",
   "execution_count": 34,
   "metadata": {},
   "outputs": [
    {
     "name": "stdout",
     "output_type": "stream",
     "text": [
      "Miss 0.6857800119712321\n",
      "3PT Field Goal 0.34347870561885346\n",
      "2PT Field Goal 0.6153357453584926\n",
      "0.5481981543161928\n"
     ]
    }
   ],
   "source": [
    "score_preds(pct_make_test_base)"
   ]
  },
  {
   "cell_type": "markdown",
   "metadata": {},
   "source": [
    "### Compare to log loss if just modeling miss, 2pt, or 3pt"
   ]
  },
  {
   "cell_type": "code",
   "execution_count": 35,
   "metadata": {
    "scrolled": true
   },
   "outputs": [
    {
     "name": "stderr",
     "output_type": "stream",
     "text": [
      "/Users/harrisonchase/workplace/kensho-learn/kml/lib/python2.7/site-packages/sklearn/metrics/scorer.py:137: DeprecationWarning: Scoring method log_loss was renamed to neg_log_loss in version 0.18 and will be removed in 0.20.\n",
      "  sample_weight=sample_weight)\n",
      "/Users/harrisonchase/workplace/kensho-learn/kml/lib/python2.7/site-packages/sklearn/metrics/scorer.py:137: DeprecationWarning: Scoring method log_loss was renamed to neg_log_loss in version 0.18 and will be removed in 0.20.\n",
      "  sample_weight=sample_weight)\n",
      "/Users/harrisonchase/workplace/kensho-learn/kml/lib/python2.7/site-packages/sklearn/metrics/scorer.py:137: DeprecationWarning: Scoring method log_loss was renamed to neg_log_loss in version 0.18 and will be removed in 0.20.\n",
      "  sample_weight=sample_weight)\n",
      "/Users/harrisonchase/workplace/kensho-learn/kml/lib/python2.7/site-packages/sklearn/metrics/scorer.py:137: DeprecationWarning: Scoring method log_loss was renamed to neg_log_loss in version 0.18 and will be removed in 0.20.\n",
      "  sample_weight=sample_weight)\n",
      "/Users/harrisonchase/workplace/kensho-learn/kml/lib/python2.7/site-packages/sklearn/metrics/scorer.py:137: DeprecationWarning: Scoring method log_loss was renamed to neg_log_loss in version 0.18 and will be removed in 0.20.\n",
      "  sample_weight=sample_weight)\n",
      "/Users/harrisonchase/workplace/kensho-learn/kml/lib/python2.7/site-packages/sklearn/metrics/scorer.py:137: DeprecationWarning: Scoring method log_loss was renamed to neg_log_loss in version 0.18 and will be removed in 0.20.\n",
      "  sample_weight=sample_weight)\n",
      "/Users/harrisonchase/workplace/kensho-learn/kml/lib/python2.7/site-packages/sklearn/metrics/scorer.py:137: DeprecationWarning: Scoring method log_loss was renamed to neg_log_loss in version 0.18 and will be removed in 0.20.\n",
      "  sample_weight=sample_weight)\n",
      "/Users/harrisonchase/workplace/kensho-learn/kml/lib/python2.7/site-packages/sklearn/metrics/scorer.py:137: DeprecationWarning: Scoring method log_loss was renamed to neg_log_loss in version 0.18 and will be removed in 0.20.\n",
      "  sample_weight=sample_weight)\n",
      "/Users/harrisonchase/workplace/kensho-learn/kml/lib/python2.7/site-packages/sklearn/metrics/scorer.py:137: DeprecationWarning: Scoring method log_loss was renamed to neg_log_loss in version 0.18 and will be removed in 0.20.\n",
      "  sample_weight=sample_weight)\n",
      "/Users/harrisonchase/workplace/kensho-learn/kml/lib/python2.7/site-packages/sklearn/metrics/scorer.py:137: DeprecationWarning: Scoring method log_loss was renamed to neg_log_loss in version 0.18 and will be removed in 0.20.\n",
      "  sample_weight=sample_weight)\n",
      "/Users/harrisonchase/workplace/kensho-learn/kml/lib/python2.7/site-packages/sklearn/metrics/scorer.py:137: DeprecationWarning: Scoring method log_loss was renamed to neg_log_loss in version 0.18 and will be removed in 0.20.\n",
      "  sample_weight=sample_weight)\n",
      "/Users/harrisonchase/workplace/kensho-learn/kml/lib/python2.7/site-packages/sklearn/metrics/scorer.py:137: DeprecationWarning: Scoring method log_loss was renamed to neg_log_loss in version 0.18 and will be removed in 0.20.\n",
      "  sample_weight=sample_weight)\n",
      "/Users/harrisonchase/workplace/kensho-learn/kml/lib/python2.7/site-packages/sklearn/metrics/scorer.py:137: DeprecationWarning: Scoring method log_loss was renamed to neg_log_loss in version 0.18 and will be removed in 0.20.\n",
      "  sample_weight=sample_weight)\n",
      "/Users/harrisonchase/workplace/kensho-learn/kml/lib/python2.7/site-packages/sklearn/metrics/scorer.py:137: DeprecationWarning: Scoring method log_loss was renamed to neg_log_loss in version 0.18 and will be removed in 0.20.\n",
      "  sample_weight=sample_weight)\n",
      "/Users/harrisonchase/workplace/kensho-learn/kml/lib/python2.7/site-packages/sklearn/metrics/scorer.py:137: DeprecationWarning: Scoring method log_loss was renamed to neg_log_loss in version 0.18 and will be removed in 0.20.\n",
      "  sample_weight=sample_weight)\n",
      "/Users/harrisonchase/workplace/kensho-learn/kml/lib/python2.7/site-packages/sklearn/metrics/scorer.py:137: DeprecationWarning: Scoring method log_loss was renamed to neg_log_loss in version 0.18 and will be removed in 0.20.\n",
      "  sample_weight=sample_weight)\n",
      "/Users/harrisonchase/workplace/kensho-learn/kml/lib/python2.7/site-packages/sklearn/metrics/scorer.py:137: DeprecationWarning: Scoring method log_loss was renamed to neg_log_loss in version 0.18 and will be removed in 0.20.\n",
      "  sample_weight=sample_weight)\n",
      "/Users/harrisonchase/workplace/kensho-learn/kml/lib/python2.7/site-packages/sklearn/metrics/scorer.py:137: DeprecationWarning: Scoring method log_loss was renamed to neg_log_loss in version 0.18 and will be removed in 0.20.\n",
      "  sample_weight=sample_weight)\n",
      "/Users/harrisonchase/workplace/kensho-learn/kml/lib/python2.7/site-packages/sklearn/metrics/scorer.py:137: DeprecationWarning: Scoring method log_loss was renamed to neg_log_loss in version 0.18 and will be removed in 0.20.\n",
      "  sample_weight=sample_weight)\n",
      "/Users/harrisonchase/workplace/kensho-learn/kml/lib/python2.7/site-packages/sklearn/metrics/scorer.py:137: DeprecationWarning: Scoring method log_loss was renamed to neg_log_loss in version 0.18 and will be removed in 0.20.\n",
      "  sample_weight=sample_weight)\n",
      "/Users/harrisonchase/workplace/kensho-learn/kml/lib/python2.7/site-packages/sklearn/metrics/scorer.py:137: DeprecationWarning: Scoring method log_loss was renamed to neg_log_loss in version 0.18 and will be removed in 0.20.\n",
      "  sample_weight=sample_weight)\n",
      "/Users/harrisonchase/workplace/kensho-learn/kml/lib/python2.7/site-packages/sklearn/metrics/scorer.py:137: DeprecationWarning: Scoring method log_loss was renamed to neg_log_loss in version 0.18 and will be removed in 0.20.\n",
      "  sample_weight=sample_weight)\n",
      "/Users/harrisonchase/workplace/kensho-learn/kml/lib/python2.7/site-packages/sklearn/metrics/scorer.py:137: DeprecationWarning: Scoring method log_loss was renamed to neg_log_loss in version 0.18 and will be removed in 0.20.\n",
      "  sample_weight=sample_weight)\n",
      "/Users/harrisonchase/workplace/kensho-learn/kml/lib/python2.7/site-packages/sklearn/metrics/scorer.py:137: DeprecationWarning: Scoring method log_loss was renamed to neg_log_loss in version 0.18 and will be removed in 0.20.\n",
      "  sample_weight=sample_weight)\n",
      "/Users/harrisonchase/workplace/kensho-learn/kml/lib/python2.7/site-packages/sklearn/metrics/scorer.py:137: DeprecationWarning: Scoring method log_loss was renamed to neg_log_loss in version 0.18 and will be removed in 0.20.\n",
      "  sample_weight=sample_weight)\n",
      "/Users/harrisonchase/workplace/kensho-learn/kml/lib/python2.7/site-packages/sklearn/metrics/scorer.py:137: DeprecationWarning: Scoring method log_loss was renamed to neg_log_loss in version 0.18 and will be removed in 0.20.\n",
      "  sample_weight=sample_weight)\n",
      "/Users/harrisonchase/workplace/kensho-learn/kml/lib/python2.7/site-packages/sklearn/metrics/scorer.py:137: DeprecationWarning: Scoring method log_loss was renamed to neg_log_loss in version 0.18 and will be removed in 0.20.\n",
      "  sample_weight=sample_weight)\n",
      "/Users/harrisonchase/workplace/kensho-learn/kml/lib/python2.7/site-packages/sklearn/metrics/scorer.py:137: DeprecationWarning: Scoring method log_loss was renamed to neg_log_loss in version 0.18 and will be removed in 0.20.\n",
      "  sample_weight=sample_weight)\n",
      "/Users/harrisonchase/workplace/kensho-learn/kml/lib/python2.7/site-packages/sklearn/metrics/scorer.py:137: DeprecationWarning: Scoring method log_loss was renamed to neg_log_loss in version 0.18 and will be removed in 0.20.\n",
      "  sample_weight=sample_weight)\n",
      "/Users/harrisonchase/workplace/kensho-learn/kml/lib/python2.7/site-packages/sklearn/metrics/scorer.py:137: DeprecationWarning: Scoring method log_loss was renamed to neg_log_loss in version 0.18 and will be removed in 0.20.\n",
      "  sample_weight=sample_weight)\n"
     ]
    },
    {
     "name": "stdout",
     "output_type": "stream",
     "text": [
      "CPU times: user 2h 59min 36s, sys: 12min 19s, total: 3h 11min 55s\n",
      "Wall time: 28min 51s\n"
     ]
    }
   ],
   "source": [
    "%%time\n",
    "model_train_make = LogisticRegressionCV(multi_class='multinomial', scoring='log_loss').fit(x_train, y_type_train)"
   ]
  },
  {
   "cell_type": "code",
   "execution_count": 36,
   "metadata": {
    "collapsed": true
   },
   "outputs": [],
   "source": [
    "test_preds_make = pd.DataFrame(model_train_make.predict_proba(x_test_0), columns=model_train_make.classes_)"
   ]
  },
  {
   "cell_type": "code",
   "execution_count": 37,
   "metadata": {},
   "outputs": [
    {
     "name": "stdout",
     "output_type": "stream",
     "text": [
      "Miss 0.6932640472159506\n",
      "3PT Field Goal 0.34896992669706967\n",
      "2PT Field Goal 0.6202050881365443\n",
      "0.5541463540165216\n"
     ]
    }
   ],
   "source": [
    "score_preds(test_preds_make)"
   ]
  },
  {
   "cell_type": "markdown",
   "metadata": {},
   "source": [
    "### Do not condition on shooter"
   ]
  },
  {
   "cell_type": "code",
   "execution_count": 38,
   "metadata": {},
   "outputs": [],
   "source": [
    "x_off_only = x_base.copy()\n",
    "for col in x_off_only.columns:\n",
    "    if 'shoot' in col:\n",
    "        new_col = col.replace('shoot', 'off')\n",
    "        if new_col in x_off_only:\n",
    "            x_off_only[new_col] = x_off_only[new_col] + x_off_only[col]\n",
    "        else:\n",
    "            x_off_only[new_col] = x_off_only[col]"
   ]
  },
  {
   "cell_type": "code",
   "execution_count": 40,
   "metadata": {},
   "outputs": [],
   "source": [
    "x_off_only = x_off_only[[col for col in x_off_only.columns if 'shoot' not in col]]"
   ]
  },
  {
   "cell_type": "code",
   "execution_count": 41,
   "metadata": {
    "scrolled": true
   },
   "outputs": [
    {
     "name": "stderr",
     "output_type": "stream",
     "text": [
      "/Users/harrisonchase/workplace/kensho-learn/kml/lib/python2.7/site-packages/sklearn/metrics/scorer.py:137: DeprecationWarning: Scoring method log_loss was renamed to neg_log_loss in version 0.18 and will be removed in 0.20.\n",
      "  sample_weight=sample_weight)\n",
      "/Users/harrisonchase/workplace/kensho-learn/kml/lib/python2.7/site-packages/sklearn/metrics/scorer.py:137: DeprecationWarning: Scoring method log_loss was renamed to neg_log_loss in version 0.18 and will be removed in 0.20.\n",
      "  sample_weight=sample_weight)\n",
      "/Users/harrisonchase/workplace/kensho-learn/kml/lib/python2.7/site-packages/sklearn/metrics/scorer.py:137: DeprecationWarning: Scoring method log_loss was renamed to neg_log_loss in version 0.18 and will be removed in 0.20.\n",
      "  sample_weight=sample_weight)\n",
      "/Users/harrisonchase/workplace/kensho-learn/kml/lib/python2.7/site-packages/sklearn/metrics/scorer.py:137: DeprecationWarning: Scoring method log_loss was renamed to neg_log_loss in version 0.18 and will be removed in 0.20.\n",
      "  sample_weight=sample_weight)\n",
      "/Users/harrisonchase/workplace/kensho-learn/kml/lib/python2.7/site-packages/sklearn/metrics/scorer.py:137: DeprecationWarning: Scoring method log_loss was renamed to neg_log_loss in version 0.18 and will be removed in 0.20.\n",
      "  sample_weight=sample_weight)\n",
      "/Users/harrisonchase/workplace/kensho-learn/kml/lib/python2.7/site-packages/sklearn/metrics/scorer.py:137: DeprecationWarning: Scoring method log_loss was renamed to neg_log_loss in version 0.18 and will be removed in 0.20.\n",
      "  sample_weight=sample_weight)\n",
      "/Users/harrisonchase/workplace/kensho-learn/kml/lib/python2.7/site-packages/sklearn/metrics/scorer.py:137: DeprecationWarning: Scoring method log_loss was renamed to neg_log_loss in version 0.18 and will be removed in 0.20.\n",
      "  sample_weight=sample_weight)\n",
      "/Users/harrisonchase/workplace/kensho-learn/kml/lib/python2.7/site-packages/sklearn/metrics/scorer.py:137: DeprecationWarning: Scoring method log_loss was renamed to neg_log_loss in version 0.18 and will be removed in 0.20.\n",
      "  sample_weight=sample_weight)\n",
      "/Users/harrisonchase/workplace/kensho-learn/kml/lib/python2.7/site-packages/sklearn/metrics/scorer.py:137: DeprecationWarning: Scoring method log_loss was renamed to neg_log_loss in version 0.18 and will be removed in 0.20.\n",
      "  sample_weight=sample_weight)\n",
      "/Users/harrisonchase/workplace/kensho-learn/kml/lib/python2.7/site-packages/sklearn/metrics/scorer.py:137: DeprecationWarning: Scoring method log_loss was renamed to neg_log_loss in version 0.18 and will be removed in 0.20.\n",
      "  sample_weight=sample_weight)\n",
      "/Users/harrisonchase/workplace/kensho-learn/kml/lib/python2.7/site-packages/sklearn/metrics/scorer.py:137: DeprecationWarning: Scoring method log_loss was renamed to neg_log_loss in version 0.18 and will be removed in 0.20.\n",
      "  sample_weight=sample_weight)\n",
      "/Users/harrisonchase/workplace/kensho-learn/kml/lib/python2.7/site-packages/sklearn/metrics/scorer.py:137: DeprecationWarning: Scoring method log_loss was renamed to neg_log_loss in version 0.18 and will be removed in 0.20.\n",
      "  sample_weight=sample_weight)\n",
      "/Users/harrisonchase/workplace/kensho-learn/kml/lib/python2.7/site-packages/sklearn/metrics/scorer.py:137: DeprecationWarning: Scoring method log_loss was renamed to neg_log_loss in version 0.18 and will be removed in 0.20.\n",
      "  sample_weight=sample_weight)\n",
      "/Users/harrisonchase/workplace/kensho-learn/kml/lib/python2.7/site-packages/sklearn/metrics/scorer.py:137: DeprecationWarning: Scoring method log_loss was renamed to neg_log_loss in version 0.18 and will be removed in 0.20.\n",
      "  sample_weight=sample_weight)\n",
      "/Users/harrisonchase/workplace/kensho-learn/kml/lib/python2.7/site-packages/sklearn/metrics/scorer.py:137: DeprecationWarning: Scoring method log_loss was renamed to neg_log_loss in version 0.18 and will be removed in 0.20.\n",
      "  sample_weight=sample_weight)\n",
      "/Users/harrisonchase/workplace/kensho-learn/kml/lib/python2.7/site-packages/sklearn/metrics/scorer.py:137: DeprecationWarning: Scoring method log_loss was renamed to neg_log_loss in version 0.18 and will be removed in 0.20.\n",
      "  sample_weight=sample_weight)\n",
      "/Users/harrisonchase/workplace/kensho-learn/kml/lib/python2.7/site-packages/sklearn/metrics/scorer.py:137: DeprecationWarning: Scoring method log_loss was renamed to neg_log_loss in version 0.18 and will be removed in 0.20.\n",
      "  sample_weight=sample_weight)\n",
      "/Users/harrisonchase/workplace/kensho-learn/kml/lib/python2.7/site-packages/sklearn/metrics/scorer.py:137: DeprecationWarning: Scoring method log_loss was renamed to neg_log_loss in version 0.18 and will be removed in 0.20.\n",
      "  sample_weight=sample_weight)\n",
      "/Users/harrisonchase/workplace/kensho-learn/kml/lib/python2.7/site-packages/sklearn/metrics/scorer.py:137: DeprecationWarning: Scoring method log_loss was renamed to neg_log_loss in version 0.18 and will be removed in 0.20.\n",
      "  sample_weight=sample_weight)\n",
      "/Users/harrisonchase/workplace/kensho-learn/kml/lib/python2.7/site-packages/sklearn/metrics/scorer.py:137: DeprecationWarning: Scoring method log_loss was renamed to neg_log_loss in version 0.18 and will be removed in 0.20.\n",
      "  sample_weight=sample_weight)\n",
      "/Users/harrisonchase/workplace/kensho-learn/kml/lib/python2.7/site-packages/sklearn/metrics/scorer.py:137: DeprecationWarning: Scoring method log_loss was renamed to neg_log_loss in version 0.18 and will be removed in 0.20.\n",
      "  sample_weight=sample_weight)\n",
      "/Users/harrisonchase/workplace/kensho-learn/kml/lib/python2.7/site-packages/sklearn/metrics/scorer.py:137: DeprecationWarning: Scoring method log_loss was renamed to neg_log_loss in version 0.18 and will be removed in 0.20.\n",
      "  sample_weight=sample_weight)\n",
      "/Users/harrisonchase/workplace/kensho-learn/kml/lib/python2.7/site-packages/sklearn/metrics/scorer.py:137: DeprecationWarning: Scoring method log_loss was renamed to neg_log_loss in version 0.18 and will be removed in 0.20.\n",
      "  sample_weight=sample_weight)\n",
      "/Users/harrisonchase/workplace/kensho-learn/kml/lib/python2.7/site-packages/sklearn/metrics/scorer.py:137: DeprecationWarning: Scoring method log_loss was renamed to neg_log_loss in version 0.18 and will be removed in 0.20.\n",
      "  sample_weight=sample_weight)\n",
      "/Users/harrisonchase/workplace/kensho-learn/kml/lib/python2.7/site-packages/sklearn/metrics/scorer.py:137: DeprecationWarning: Scoring method log_loss was renamed to neg_log_loss in version 0.18 and will be removed in 0.20.\n",
      "  sample_weight=sample_weight)\n",
      "/Users/harrisonchase/workplace/kensho-learn/kml/lib/python2.7/site-packages/sklearn/metrics/scorer.py:137: DeprecationWarning: Scoring method log_loss was renamed to neg_log_loss in version 0.18 and will be removed in 0.20.\n",
      "  sample_weight=sample_weight)\n",
      "/Users/harrisonchase/workplace/kensho-learn/kml/lib/python2.7/site-packages/sklearn/metrics/scorer.py:137: DeprecationWarning: Scoring method log_loss was renamed to neg_log_loss in version 0.18 and will be removed in 0.20.\n",
      "  sample_weight=sample_weight)\n",
      "/Users/harrisonchase/workplace/kensho-learn/kml/lib/python2.7/site-packages/sklearn/metrics/scorer.py:137: DeprecationWarning: Scoring method log_loss was renamed to neg_log_loss in version 0.18 and will be removed in 0.20.\n",
      "  sample_weight=sample_weight)\n",
      "/Users/harrisonchase/workplace/kensho-learn/kml/lib/python2.7/site-packages/sklearn/metrics/scorer.py:137: DeprecationWarning: Scoring method log_loss was renamed to neg_log_loss in version 0.18 and will be removed in 0.20.\n",
      "  sample_weight=sample_weight)\n",
      "/Users/harrisonchase/workplace/kensho-learn/kml/lib/python2.7/site-packages/sklearn/metrics/scorer.py:137: DeprecationWarning: Scoring method log_loss was renamed to neg_log_loss in version 0.18 and will be removed in 0.20.\n",
      "  sample_weight=sample_weight)\n"
     ]
    },
    {
     "name": "stdout",
     "output_type": "stream",
     "text": [
      "CPU times: user 1h 25min 38s, sys: 10min 22s, total: 1h 36min 1s\n",
      "Wall time: 17min 39s\n"
     ]
    }
   ],
   "source": [
    "%%time\n",
    "model_off_only_make = LogisticRegressionCV(multi_class='multinomial', scoring='log_loss').fit(x_off_only, y_type_train)"
   ]
  },
  {
   "cell_type": "code",
   "execution_count": 42,
   "metadata": {},
   "outputs": [],
   "source": [
    "x_off_only_test = x_test.copy()\n",
    "for col in x_off_only_test.columns:\n",
    "    if 'shoot' in col:\n",
    "        new_col = col.replace('shoot', 'off')\n",
    "        if new_col in x_off_only_test:\n",
    "            x_off_only_test[new_col] = x_off_only_test[new_col] + x_off_only_test[col]\n",
    "        else:\n",
    "            x_off_only_test[new_col] = x_off_only_test[col]\n",
    "x_off_only_test = x_off_only_test[[col for col in x_off_only_test.columns if 'shoot' not in col]]"
   ]
  },
  {
   "cell_type": "code",
   "execution_count": 43,
   "metadata": {},
   "outputs": [],
   "source": [
    "preds_off_only = pd.DataFrame(model_off_only_make.predict_proba(x_off_only_test), columns=model_off_only_make.classes_)"
   ]
  },
  {
   "cell_type": "code",
   "execution_count": 44,
   "metadata": {},
   "outputs": [
    {
     "name": "stdout",
     "output_type": "stream",
     "text": [
      "Miss 0.6919973278838878\n",
      "3PT Field Goal 0.36818879560421525\n",
      "2PT Field Goal 0.6395346782914838\n",
      "0.5665736005931956\n"
     ]
    }
   ],
   "source": [
    "score_preds(preds_off_only)"
   ]
  },
  {
   "cell_type": "markdown",
   "metadata": {},
   "source": [
    "### Get average for all "
   ]
  },
  {
   "cell_type": "code",
   "execution_count": 45,
   "metadata": {
    "collapsed": true
   },
   "outputs": [],
   "source": [
    "pct_make_test_1 = make_pct_make(x_test_1, model_train_loc, models_train)\n",
    "pct_make_test_2 = make_pct_make(x_test_2, model_train_loc, models_train)\n",
    "pct_make_test_3 = make_pct_make(x_test_3, model_train_loc, models_train)\n",
    "pct_make_test_4 = make_pct_make(x_test_4, model_train_loc, models_train)"
   ]
  },
  {
   "cell_type": "code",
   "execution_count": 46,
   "metadata": {
    "collapsed": true
   },
   "outputs": [],
   "source": [
    "average_test_pred = (pct_make_test + pct_make_test_1 + pct_make_test_2 + pct_make_test_3 + pct_make_test_4) / 5"
   ]
  },
  {
   "cell_type": "code",
   "execution_count": 47,
   "metadata": {},
   "outputs": [
    {
     "name": "stdout",
     "output_type": "stream",
     "text": [
      "Miss 0.6892712827707342\n",
      "3PT Field Goal 0.3669448863667952\n",
      "2PT Field Goal 0.6385106658837749\n",
      "0.5649089450071014\n"
     ]
    }
   ],
   "source": [
    "score_preds(average_test_pred)"
   ]
  },
  {
   "cell_type": "markdown",
   "metadata": {},
   "source": [
    "### Full Model"
   ]
  },
  {
   "cell_type": "code",
   "execution_count": null,
   "metadata": {
    "scrolled": true
   },
   "outputs": [],
   "source": [
    "model_loc = LogisticRegressionCV(multi_class='multinomial', scoring='log_loss').fit(x_df_pos, y_loc)"
   ]
  },
  {
   "cell_type": "code",
   "execution_count": null,
   "metadata": {},
   "outputs": [],
   "source": [
    "models = {}\n",
    "for class_ in tqdm.tqdm(y_loc.unique()):\n",
    "    shot_index = y_loc[lambda x: x==class_].index\n",
    "    y_make_train_sub = y_make.loc[shot_index]\n",
    "    x_train_sub = x_df_pos.loc[shot_index]\n",
    "    models[class_] = LogisticRegressionCV(scoring='neg_log_loss').fit(x_train_sub, y_make_train_sub)"
   ]
  },
  {
   "cell_type": "code",
   "execution_count": null,
   "metadata": {
    "collapsed": true
   },
   "outputs": [],
   "source": [
    "loc_coefs = pd.DataFrame(model_loc.coef_, columns=x_df_pos.columns, index=model_loc.classes_)\n",
    "loc_coefs['int'] = model_loc.intercept_\n",
    "loc_coefs.to_msgpack('full_loc_coefs.mp')"
   ]
  },
  {
   "cell_type": "code",
   "execution_count": null,
   "metadata": {},
   "outputs": [],
   "source": [
    "model_coefs = []\n",
    "model_ints = []\n",
    "for class_ in tqdm.tqdm(y_loc.unique()):\n",
    "    model_coefs.append(pd.Series(models[class_].coef_[0], name=class_, index=x_df_pos.columns))\n",
    "    model_ints.append(models[class_].intercept_[0])"
   ]
  },
  {
   "cell_type": "code",
   "execution_count": null,
   "metadata": {
    "collapsed": true
   },
   "outputs": [],
   "source": [
    "pct_coefs = pd.concat(model_coefs,axis=1).T\n",
    "pct_coefs['int'] = model_ints\n",
    "pct_coefs.to_msgpack('full_pct_coefs.mp')"
   ]
  }
 ],
 "metadata": {
  "kernelspec": {
   "display_name": "Python 2",
   "language": "python",
   "name": "python2"
  },
  "language_info": {
   "codemirror_mode": {
    "name": "ipython",
    "version": 2
   },
   "file_extension": ".py",
   "mimetype": "text/x-python",
   "name": "python",
   "nbconvert_exporter": "python",
   "pygments_lexer": "ipython2",
   "version": "2.7.10"
  }
 },
 "nbformat": 4,
 "nbformat_minor": 2
}
